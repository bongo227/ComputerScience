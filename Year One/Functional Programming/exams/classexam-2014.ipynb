{
 "cells": [
  {
   "cell_type": "code",
   "execution_count": null,
   "metadata": {},
   "outputs": [],
   "source": [
    "import Data.Char\n",
    "import Test.QuickCheck"
   ]
  },
  {
   "cell_type": "code",
   "execution_count": null,
   "metadata": {},
   "outputs": [],
   "source": [
    "f :: Char -> Bool\n",
    "f c | c `elem` \"gjpqy\" = True\n",
    "    | otherwise       = False\n",
    "    \n",
    "f 'a'\n",
    "f 'p'\n",
    "f 'A'\n",
    "f 'P'\n",
    "f '3'"
   ]
  },
  {
   "cell_type": "code",
   "execution_count": null,
   "metadata": {},
   "outputs": [],
   "source": [
    "g :: String -> Int\n",
    "g s = length [ c | c <- s, f c ]\n",
    "\n",
    "g \"prig\"\n",
    "g \"minimum\"\n",
    "g \"\"\n",
    "g \"42NATly\"\n",
    "g \"Jiggle\""
   ]
  },
  {
   "cell_type": "code",
   "execution_count": null,
   "metadata": {},
   "outputs": [],
   "source": [
    "h :: String -> Int\n",
    "h [] = 0\n",
    "h (c:cs) | f c       = 1 + h cs\n",
    "         | otherwise = h cs\n",
    "         \n",
    "h \"prig\"\n",
    "h \"minimum\"\n",
    "h \"\"\n",
    "h \"42NATly\"\n",
    "h \"Jiggle\""
   ]
  },
  {
   "cell_type": "code",
   "execution_count": null,
   "metadata": {},
   "outputs": [],
   "source": [
    "c :: String -> String\n",
    "c s = [ if even i then toUpper x else x | (x,i) <- zip s [0..] ]\n",
    "\n",
    "c \"haskell\"\n",
    "c \"\"\n",
    "c \"Edinburgh\"\n",
    "c \"83wing\""
   ]
  },
  {
   "cell_type": "code",
   "execution_count": null,
   "metadata": {},
   "outputs": [],
   "source": [
    "d :: String -> String\n",
    "d [] = []\n",
    "d [x] = [toUpper x]\n",
    "d (x:y:s) = toUpper x : y : d s\n",
    "\n",
    "d \"haskell\"\n",
    "d \"\"\n",
    "d \"Edinburgh\"\n",
    "d \"83wing\""
   ]
  },
  {
   "cell_type": "code",
   "execution_count": null,
   "metadata": {},
   "outputs": [],
   "source": [
    "prop_cd :: String -> Bool\n",
    "prop_cd s = c s == d s\n",
    "\n",
    "quickCheck prop_cd"
   ]
  }
 ],
 "metadata": {
  "language_info": {
   "name": "python",
   "pygments_lexer": "ipython3"
  }
 },
 "nbformat": 4,
 "nbformat_minor": 2
}
