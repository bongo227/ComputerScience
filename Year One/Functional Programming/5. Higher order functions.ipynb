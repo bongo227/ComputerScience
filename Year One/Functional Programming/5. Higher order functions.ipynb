{
 "cells": [
  {
   "cell_type": "code",
   "execution_count": null,
   "metadata": {},
   "outputs": [],
   "source": [
    "-- Arguments are applied one at a time\n",
    "-- for example max takes two arguments but if we only suply one\n",
    "let foo = max 10\n",
    "-- then max 10 will return a function which takes the next argument\n",
    ":t max\n",
    ":t foo\n",
    "foo 100\n",
    "foo 1\n",
    "\n",
    "-- infact max 10 100 is could be written like this\n",
    "max 10 100\n",
    "(max 10) 100\n",
    "\n",
    "-- we can do the same for infix functions\n",
    "(+ 3) 100"
   ]
  },
  {
   "cell_type": "code",
   "execution_count": null,
   "metadata": {},
   "outputs": [],
   "source": [
    "-- functions are first class, so they can be provided as arguments\n",
    "twice f x = f (f x)\n",
    "twice (*2) 10\n",
    "twice (3:) [1]"
   ]
  },
  {
   "cell_type": "code",
   "execution_count": null,
   "metadata": {},
   "outputs": [],
   "source": [
    "-- map applys a function to every element in a list\n",
    "map (+3) [1, 2, 3]\n",
    "\n",
    "-- filter takes a predicate and removes elements that dont satisfy it\n",
    "filter (<=3) [1..20]\n",
    "\n",
    "-- takeWhile returns elements until the predicate is not satisfied\n",
    "takeWhile (<= 5) [1..]"
   ]
  },
  {
   "cell_type": "code",
   "execution_count": null,
   "metadata": {},
   "outputs": [],
   "source": [
    "-- lambdas can be defined with the \\arg arg -> body\n",
    "filter (\\a -> a > 10 && a < 20) [1..100]"
   ]
  },
  {
   "cell_type": "code",
   "execution_count": null,
   "metadata": {},
   "outputs": [],
   "source": [
    "-- foldl folds from the left\n",
    "foldl (/) 1.0 [1.0..5.0]\n",
    "\n",
    "-- foldr folds from the right\n",
    "foldr (/) 1.0 [1.0..5.0]\n",
    "\n",
    "-- foldl1 and foldr1 have an implisit state value of 1\n",
    "foldl1 (/) [1.0..5.0]\n",
    "foldr1 (/) [1.0..5.0]\n",
    "\n",
    "-- scanl and scanr return a list of all the intemediant states of a fold\n",
    "scanl (/) 1.0 [1.0..5.0]\n",
    "scanr (/) 1.0 [1.0..5.0]\n",
    "\n",
    "-- we can use this to answer questions like: how many consecutive integers (starting from 1) are needed to\n",
    "-- exceed 100\n",
    "\n",
    "length (takeWhile (<1000) (scanl1 (+) [1..])) + 1"
   ]
  },
  {
   "cell_type": "code",
   "execution_count": null,
   "metadata": {},
   "outputs": [],
   "source": [
    "-- the $ operator allows right assosivate function application\n",
    "sum (map sqrt [1..100])\n",
    "sum $ map sqrt [1..100]"
   ]
  },
  {
   "cell_type": "code",
   "execution_count": null,
   "metadata": {},
   "outputs": [],
   "source": [
    "-- the . operated composes two functions\n",
    "let divAndAdd3 = (+3.0) . (/3.0)\n",
    "divAndAdd3 24\n",
    "\n",
    "map (negate . abs) [1, -124, 412, -21]\n",
    "\n",
    "-- this can be used to remove the parameter of some functions such as\n",
    "fn1 x = ceiling (negate (tan (cos (max 50 x))))  \n",
    "-- becomes\n",
    "fn2 = ceiling . negate . tan . cos . max 50\n",
    "\n",
    "map fn1 [10,20..360]\n",
    "map fn2 [10,20..360]"
   ]
  }
 ],
 "metadata": {
  "language_info": {
   "name": "python",
   "pygments_lexer": "ipython3"
  }
 },
 "nbformat": 4,
 "nbformat_minor": 2
}
