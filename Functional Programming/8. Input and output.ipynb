{
    "cells": [
        {
            "cell_type": "code",
            "execution_count": null,
            "metadata": {},
            "outputs": [],
            "source": [
                "-- Input and output are inpure by their nature so haskall uses actions\n",
                "-- to seperate the pure and impure parts of a program\n",
                "\n",
                "-- putStrLn prints out a string\n",
                "main = putStrLn \"hello world\"\n",
                "main\n",
                "\n",
                "-- its type returns an IO action, which when executed causes a side effect\n",
                ":t main"
            ]
        },
        {
            "cell_type": "code",
            "execution_count": null,
            "metadata": {},
            "outputs": [],
            "source": [
                "-- do can be used to execute a sequence of commands and combine IO actions\n",
                "main = do\n",
                "    putStrLn \"Hello, whats your name?\"\n",
                "    name <- getLine\n",
                "    putStrLn (\"Hey \" ++ name ++ \", welcome aboard\")\n",
                "main\n",
                "-- get line gets a line from user input\n",
                "-- we can only bind the value when we are inside another IO action\n",
                "-- this neatly encapsulates all the impure parts of the program"
            ]
        }
    ],
    "metadata": {
        "kernelspec": {
            "display_name": "Haskell",
            "language": "haskell",
            "name": "haskell"
        },
        "language_info": {
            "codemirror_mode": "ihaskell",
            "file_extension": ".hs",
            "name": "haskell",
            "version": "8.0.2"
        }
    },
    "nbformat": 4,
    "nbformat_minor": 2
}