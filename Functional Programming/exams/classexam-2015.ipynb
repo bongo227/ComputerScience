{
    "cells": [
        {
            "cell_type": "code",
            "execution_count": null,
            "metadata": {
                "collapsed": true
            },
            "outputs": [],
            "source": [
                "import Data.Char\n",
                "import Test.QuickCheck"
            ]
        },
        {
            "cell_type": "code",
            "execution_count": null,
            "metadata": {},
            "outputs": [],
            "source": [
                "count :: String -> Int\n",
                "count s = length $ filter (\\c -> isUpper c || isDigit c) s\n",
                "\n",
                "count \"Inf1-FP\"\n",
                "count \"none hear\"\n",
                "count \"\"\n",
                "count \"5HOU7\""
            ]
        },
        {
            "cell_type": "code",
            "execution_count": null,
            "metadata": {
                "scrolled": true
            },
            "outputs": [],
            "source": [
                "countRec :: String -> Int\n",
                "countRec [] = 0\n",
                "countRec (c:st) | isUpper c || isDigit c = 1 + countRec st\n",
                "                | otherwise              = countRec st\n",
                "          \n",
                "countRec \"Inf1-FP\"\n",
                "countRec \"none hear\"\n",
                "countRec \"\"\n",
                "countRec \"5HOU7\" "
            ]
        },
        {
            "cell_type": "code",
            "execution_count": null,
            "metadata": {},
            "outputs": [],
            "source": [
                "import Test.QuickCheck\n",
                "\n",
                "prop_count :: String -> Bool\n",
                "prop_count s = count s == countRec s\n",
                "\n",
                "quickCheck prop_count"
            ]
        },
        {
            "cell_type": "code",
            "execution_count": null,
            "metadata": {},
            "outputs": [],
            "source": [
                "isNext :: Int -> Int -> Bool\n",
                "isNext a b | even a =    a `div` 2 == b\n",
                "           | otherwise = a * 3 + 1 == b\n",
                "             \n",
                "isNext 4 2\n",
                "isNext 5 16\n",
                "isNext 8 3\n",
                "isNext 3 12"
            ]
        },
        {
            "cell_type": "code",
            "execution_count": null,
            "metadata": {},
            "outputs": [],
            "source": [
                "collatz :: [Int] -> Bool\n",
                "collatz l = and [isNext a b | (a, b) <- zip l (tail l)]\n",
                "\n",
                "collatz [22, 11, 34, 17, 52, 26, 13, 40]\n",
                "collatz [21, 64, 32, 8, 4]\n",
                "collatz []\n",
                "collatz [4, 2, 1, 4]"
            ]
        },
        {
            "cell_type": "code",
            "execution_count": null,
            "metadata": {},
            "outputs": [],
            "source": [
                "collatzRec :: [Int] -> Bool\n",
                "collatzRec [] = True\n",
                "collatzRec [x] = True\n",
                "collatzRec (x:y:xs) = (isNext x y) && collatzRec (y:xs)\n",
                "\n",
                "collatzRec [22, 11, 34, 17, 52, 26, 13, 40]\n",
                "collatzRec [21, 64, 32, 8, 4]\n",
                "collatzRec []\n",
                "collatzRec [4, 2, 1, 4]"
            ]
        }
    ],
    "metadata": {
        "kernelspec": {
            "display_name": "Haskell",
            "language": "haskell",
            "name": "haskell"
        },
        "language_info": {
            "codemirror_mode": "ihaskell",
            "file_extension": ".hs",
            "name": "haskell",
            "version": "8.0.2"
        }
    },
    "nbformat": 4,
    "nbformat_minor": 2
}