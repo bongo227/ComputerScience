{
    "cells": [
        {
            "cell_type": "code",
            "execution_count": null,
            "metadata": {},
            "outputs": [],
            "source": [
                "-- Here is a replicate implementation\n",
                "replicate' :: (Num i, Ord i) => i -> a -> [a]\n",
                "replicate' 0 a = []\n",
                "replicate' x a = a:replicate' (x-1) a\n",
                "\n",
                "replicate' 5 10\n",
                "replicate' 3 3"
            ]
        },
        {
            "cell_type": "code",
            "execution_count": null,
            "metadata": {},
            "outputs": [],
            "source": [
                "-- Here is a quicksort implementation\n",
                "quicksort :: (Ord x) => [x] -> [x]\n",
                "quicksort [] = []\n",
                "quicksort (x:xs) =\n",
                "    let lower = quicksort [a | a <- xs, a <= x]\n",
                "        higher = quicksort [a | a <- xs, a > x]\n",
                "    in lower ++ [x] ++ higher\n",
                "    \n",
                "quicksort [4, 6, 2, 5, 2]\n",
                "quicksort \"strings aswell!\""
            ]
        }
    ],
    "metadata": {
        "kernelspec": {
            "display_name": "Haskell",
            "language": "haskell",
            "name": "haskell"
        },
        "language_info": {
            "codemirror_mode": "ihaskell",
            "file_extension": ".hs",
            "name": "haskell",
            "version": "8.0.2"
        }
    },
    "nbformat": 4,
    "nbformat_minor": 2
}