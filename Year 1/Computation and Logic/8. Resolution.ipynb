{
 "cells": [
  {
   "cell_type": "markdown",
   "metadata": {},
   "source": [
    "# Resolution\n",
    "\n",
    "> A __valuation__ makes some atoms true and the rest false.\n",
    "\n",
    "The __resolution rule__ is as follows:\n",
    "$$\n",
    "\\dfrac{a_1 \\lor ... \\lor a_n \\quad b_1 \\lor ... \\lor b_m}{a_1 \\lor ... \\lor a_n \\lor b_1 \\lor ... \\lor b_m}\n",
    "$$\n",
    "\n",
    "For example consider the following axioms:\n",
    "$$\n",
    "¬A \\lor C,\\quad ¬B \\lor D,\\quad ¬E \\lor B,\\quad ¬E \\lor A,\\quad A \\lor E,\\quad E \\lor B\n",
    "$$\n",
    "\n",
    "We can apply the rule like so:\n",
    "$$\n",
    "\\dfrac\n",
    "{\n",
    "\\dfrac{¬B \\lor D \\quad ¬E \\lor B}{D \\lor ¬E}\n",
    "\\quad\n",
    "\\dfrac{E \\lor B \\quad ¬B \\lor D}{E \\lor D}\n",
    "}\n",
    "{D}\n",
    "$$\n",
    "\n",
    "which is equivilent to the implies form:\n",
    "$$\n",
    "\\dfrac\n",
    "{\n",
    "\\dfrac{¬D \\rightarrow ¬B \\quad ¬B \\rightarrow ¬E}{¬D \\rightarrow ¬E}\n",
    "\\quad\n",
    "\\dfrac{¬E \\rightarrow B \\quad B \\rightarrow D}{¬E \\rightarrow D}\n",
    "}\n",
    "{D}\n",
    "$$\n",
    "\n",
    "This allows use to determine if a propositional formular is satisfiable."
   ]
  },
  {
   "cell_type": "markdown",
   "metadata": {},
   "source": [
    "### Clausal form\n",
    "Resolution uses CNF however however that can get quite long, so clausal form expresses the same state statement with sets.\n",
    "\n",
    "Here are some clauses are written in CNF:\n",
    "$$\n",
    "(¬A \\lor C) \\land (¬B \\lor D) \\land (¬E \\lor B) \\land (¬E \\lor A) \\land (A \\lor E) \\land (E \\lor B) \\land (¬B \\lor ¬C \\lor ¬D)\n",
    "$$\n",
    "\n",
    "And here they are in clausal form:\n",
    "$$\n",
    "\\big\\{ \\{¬A, C\\}, \\{¬B, D\\}, \\{¬E, B\\}, \\{¬E, A\\}, \\{A, E\\}, \\{E, B\\}, \\{¬B, ¬C, ¬D\\} \\big\\}\n",
    "$$\n",
    "\n",
    "Each set represents the disjunction of its literals, with an empty disjunction representing $\\bot$ (when we _or_ some things we have to satisfy atleast one of them, if their arent any we cant satisfy nothing therefore an empty disjunction is $\\bot$). If the outer set is empty it represents $\\top$ (when we _and_ some things we have to satisfy them all, if their arent any their is nothing to satisfy, thus an empty conjunction is $\\top$).\n",
    "\n",
    "The resolution rule becomes:\n",
    "$$\n",
    "\\dfrac{X \\quad Y}{(x \\cup Y) \\setminus \\{¬A, A\\}} \\quad \\text{where} \\, ¬A \\in X, A \\in Y\n",
    "$$\n",
    "If we have two clauses $X$ and $Y$, the conclusion becomes the union of those clauses minus the literal we are cancelling."
   ]
  },
  {
   "cell_type": "markdown",
   "metadata": {},
   "source": [
    "### David Putnam\n",
    "This algorithun is used to decide the satisfiability of propositional logic formula by using resolution to try and reduce the set of sets to the empty set.\n",
    "\n",
    "- Take a collection of clauses $C$\n",
    "- For each propositional letter, $A$\n",
    "    - For each pair $(X, Y) | X \\in C \\land Y \\in C \\land A \\in X \\land ¬A \\in Y$\n",
    "        - if $R(X, Y, A) = \\{\\}$ return __unsatisfactory__\n",
    "        - if $R(X, Y, A)$ is contingent $C := C \\cup \\{R(X, Y)\\}$\n",
    "    - remove any clauses containing $A$ or $¬A$\n",
    "- return __satisfactory__\n",
    "\n",
    "\n",
    "\n",
    "Where $R(X, Y, A) = X \\cup Y \\setminus \\{A, ¬A\\}$.\n",
    "\n",
    "A set is contingent if it does not contain any complementry pairs of literals"
   ]
  },
  {
   "cell_type": "markdown",
   "metadata": {},
   "source": [
    "Consider the following axioms\n",
    "$$\n",
    "¬A \\lor C,\\quad ¬B \\lor D,\\quad ¬E \\lor B,\\quad ¬E \\lor A,\\quad A \\lor E,\\quad E \\lor B,\\quad ¬C \\lor ¬D\n",
    "$$\n",
    "\n",
    "Running David Putnam shows us that this is unsatisfiable\n",
    "\n",
    "|     | $A$ | $B$ | $C$ | $D$ | $E$ |\n",
    "| :--- | :--- | :--- | :--- | :--- | :--- |\n",
    "| <div style=\"width:60px;\">$\\{¬A, C\\}$</div> | <div style=\"width:60px;\">$\\{¬E, C\\}$</div> | <div style=\"width:60px;\">$\\{¬E, D\\}$</div> | <div style=\"width:60px;\">$\\{¬E, D\\}$</div> | <div style=\"width:60px;\">$\\{E\\}$</div> | <div style=\"width:60px;\">$\\{\\}$</div> |\n",
    "| $\\{¬B, D\\}$ | $\\{C, E\\}$ | $\\{E, D\\}$ | $\\{¬D, E\\}$ | $\\{¬E\\}$ |\n",
    "| $\\{¬E, B\\}$ | | | | | |\n",
    "| $\\{¬E, A\\}$ | | | | | |\n",
    "| $\\{A, E\\}$ | | | | | | \n",
    "| $\\{E, B\\}$ | | | | | |\n",
    "| $\\{¬C, ¬D\\}$ | | | | | | | \n",
    "\n",
    "- We look at all the sets containing A and carry out resolution.\n",
    "- Then we look at all the sets containing B (including the new sets).\n",
    "- When we look at E their is actually 4 possiblitys, however 2 of them are $\\{E, ¬E\\}$ so they are discarded.\n",
    "- Finnaly we get the empty set, therefore the axioms are unsitisfiable."
   ]
  },
  {
   "attachments": {
    "refutation.png": {
     "image/png": "[encoded data removed]"
    }
   },
   "cell_type": "markdown",
   "metadata": {},
   "source": [
    "### Refuatation\n",
    "The problem with resolution is that it requires alot of memory, since it must remember all the sets. Another approach is refutation, which is to do a search across all permutations of literals. If you cannot find a set of literals that satisfy the axioms then the problem is unsatisfiable. The benifit to this approach is that you only have to rememeber the branch your on (if you do a tree search).\n",
    "\n",
    "Consider the following set of disjunctions:\n",
    "$$\n",
    "\\{Z, Y\\} \\quad \\{¬Y\\} \\quad \\{Q, ¬Z, X\\} \\quad \\{¬Q, X\\} \\quad \\{¬Z, ¬X\\}\n",
    "$$\n",
    "\n",
    "This produces the following tree:\n",
    "![refutation.png](attachment:refutation.png)\n",
    "\n",
    "\n",
    "- if all axioms are satisfied then the set is a solution.\n",
    "- if none of the axioms are satisfied then the set is not a solution.\n",
    "- if the set does not have all propositional letters, then a branch adds the next letter and its negation.\n",
    "- if all of the sets do not satisfy the axioms then the problem is unsatisfiable."
   ]
  }
 ],
 "metadata": {
  "language_info": {
   "name": "python",
   "pygments_lexer": "ipython3"
  }
 },
 "nbformat": 4,
 "nbformat_minor": 2
}
