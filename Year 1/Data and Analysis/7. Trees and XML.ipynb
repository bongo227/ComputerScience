{
 "cells": [
  {
   "cell_type": "markdown",
   "metadata": {},
   "source": [
    "# Trees and XML\n",
    "Relational databases record data with a fixed scemea, however not all data is structured in a way that fits in a relational database. Instances of this include:\n",
    "- Data with no inherit structure or the structure varies from item to item.\n",
    "- We may want to mark up exsisting unstructured data (e.g. english text) with additional infomation.\n",
    "- Data that changes structure overtime."
   ]
  },
  {
   "cell_type": "markdown",
   "metadata": {},
   "source": [
    "### XML\n",
    "Many variations of semistructure data fits into a tree, one such encoding is XML. XML stands for extensible markup language that has been used and extended into many application domains including:\n",
    "- XHTML for webpages\n",
    "- SVG for vector graphics\n",
    "- OOXML for Microsoft office documents\n",
    "- MathML for writing mathmatics\n",
    "- GLADE for GTX+ user interface\n",
    "- GML, the geography markup language\n",
    "- MusicXML for musical scores\n",
    "- FpML, the financial products markup language\n",
    "\n",
    "XML has a variety of node types including:\n",
    "\n",
    "| Type | Description | Example |\n",
    "| :--- | :--- | :--- |\n",
    "| Document | The root of the tree | |\n",
    "| Element | A lable that categorises the data bellow them. The root node must have exactly one element node as its child called the root element. | `<Country><State></State></Country>` |\n",
    "| Text | A leaf node of the tree that stores textual infomation. | `foo bar` |\n",
    "| Attribute | Like an element however they are treated diffrently, often storing metadata. | `<Element type=\"Integer\" ></Element>` |"
   ]
  }
 ],
 "metadata": {
  "kernelspec": {
   "display_name": "Python 3",
   "language": "python",
   "name": "python3"
  },
  "language_info": {
   "codemirror_mode": {
    "name": "ipython",
    "version": 3
   },
   "file_extension": ".py",
   "mimetype": "text/x-python",
   "name": "python",
   "nbconvert_exporter": "python",
   "pygments_lexer": "ipython3",
   "version": "3.5.3"
  }
 },
 "nbformat": 4,
 "nbformat_minor": 2
}
