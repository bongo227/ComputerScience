{
 "cells": [
  {
   "cell_type": "markdown",
   "metadata": {},
   "source": [
    "# DTD"
   ]
  },
  {
   "cell_type": "markdown",
   "metadata": {},
   "source": [
    "### Schema Languages for XML\n",
    "A schema langauge for XML is any langauge for specifying simular kind in XML documents. Precise and unambiguous schema allow us to validate an XML file for correctness. \n",
    "\n",
    "Document Type Definition (DTD) is a basic schema mechanism for XML. DTD contains infomation about\n",
    "- Which elements can appear in a document\n",
    "- The attributes of an element\n",
    "- The relationship between elements (order, number and nesting)\n",
    "\n",
    "Here is an example of DTD for Factbook:\n",
    "```dtd\n",
    "<!ELEMENT Factbook ( Country+ ) >\n",
    "<!ELEMENT Country ( Name, Population, Capital, State∗ ) >\n",
    "<!ELEMENT Name ( #PCDATA ) >\n",
    "<!ELEMENT Population ( #PCDATA ) >\n",
    "<!ELEMENT Capital ( #PCDATA ) >\n",
    "<!ELEMENT State ( Name, Feature∗ ) >\n",
    "<!ELEMENT Feature ( #PCDATA ) >\n",
    "\n",
    "<!ATTLIST Country code CDATA #IMPLIED >\n",
    "<!ATTLIST Feature type CDATA #REQUIRED >\n",
    "```\n",
    "\n",
    "DTD is a list of element and attribute declartions.\n",
    "\n",
    "```dtd\n",
    "<!ELEMENT Factbook ( Country+ ) >\n",
    "```\n",
    "This element declaration declares that the `Factbook` element must contain one or more `Country` elements.\n",
    "\n",
    "```dtd\n",
    "<!ELEMENT Country ( Name, Population, Capital, State∗ ) >\n",
    "```\n",
    "This element declaration declares that `Country` must contain a `Name`, `Population`, `Capital` and zero or more `State` elements in this order.\n",
    "\n",
    "```dtd\n",
    "<!ELEMENT Name ( #PCDATA ) >\n",
    "```\n",
    "This element declares that Name must contain parced character data (text).\n",
    "\n",
    "```dtd\n",
    "<!ATTLIST Country code CDATA #IMPLIED >\n",
    "```\n",
    "This is an attribute declaration that specifys that the `Country` element may contain a `code` attribute which should be character data (text).\n",
    "\n",
    "```dtd\n",
    "<!ATTLIST Feature type CDATA #REQUIRED >\n",
    "```\n",
    "This attribute declaration that specifys that the `Feature` element must contain a `type` attribute."
   ]
  },
  {
   "cell_type": "markdown",
   "metadata": {},
   "source": [
    "### Regex in DTD\n",
    "Some of the declarations above have the same behaviour as in regex, this is because the child declartion is regex.\n",
    "\n",
    "- `r1, r2` content matching `r1` followed by `r2`\n",
    "- `r1 | r2` content matching `r1` or `r2`\n",
    "- `?` zero or one\n",
    "- `*` zero or more\n",
    "- `+` one or more"
   ]
  },
  {
   "cell_type": "markdown",
   "metadata": {},
   "source": [
    "### PCDATA vs CDATA\n",
    "\n",
    "CDATA is a raw string of characters, whereas PCDATA is a parsed string of characters so it may not contain `<` and `>` characters because these signify the opening/closing of a tag."
   ]
  },
  {
   "cell_type": "markdown",
   "metadata": {},
   "source": [
    "### DTD Limitations\n",
    "\n",
    "- Elements and attributes cannot be assigned datatypes beyond text and simple enumerations.\n",
    "- Imposible to constrain on data values.\n",
    "- Element constraints apply only to a single element, not to sets of related elements."
   ]
  }
 ],
 "metadata": {
  "kernelspec": {
   "display_name": "Python 3",
   "language": "python",
   "name": "python3"
  },
  "language_info": {
   "codemirror_mode": {
    "name": "ipython",
    "version": 3
   },
   "file_extension": ".py",
   "mimetype": "text/x-python",
   "name": "python",
   "nbconvert_exporter": "python",
   "pygments_lexer": "ipython3",
   "version": "3.5.3"
  }
 },
 "nbformat": 4,
 "nbformat_minor": 2
}
