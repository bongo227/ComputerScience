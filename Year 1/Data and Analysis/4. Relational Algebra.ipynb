{
 "cells": [
  {
   "cell_type": "markdown",
   "metadata": {},
   "source": [
    "# Relational Algebra"
   ]
  },
  {
   "cell_type": "markdown",
   "metadata": {},
   "source": [
    "- __Relational algebra:__ describes operations on databases.\n",
    "- __Tuple-relational calculus:__ describes querys on the database."
   ]
  },
  {
   "cell_type": "markdown",
   "metadata": {},
   "source": [
    "### Relational Algebra\n",
    "Relational algebra is a mathmatical language which takes one or more tables, performs an operation, and returns the result.\n",
    "\n",
    "| Name | Symbol |\n",
    "| :--- | --- |\n",
    "| Selection | $\\sigma$ |\n",
    "| Projection | $\\pi$ |\n",
    "| Renaming | $\\rho$ |\n",
    "| Union | $\\cup$ |\n",
    "| Intersection | $\\cap$ |\n",
    "| Diffrence | $-$ |\n",
    "| Cross-product | $\\times$ |\n",
    "| Join | $\\bowtie$ |\n",
    "\n",
    "Ted Codd completeteness proof shows that these operations are enough to express generaly kinds of querys. Conversely any query language must implement these in order to answer many querys.\n",
    "\n",
    "#### Selection\n",
    "Filters rows of a table by the logical predicate\n",
    "$$\n",
    "\\sigma_{\\text{age} > 18}(\\text{Student})\n",
    "$$\n",
    "This expression would return all students in the `Student` table whos `age` is larger than 18.\n",
    "\n",
    "#### Projection\n",
    "Returns a new table with only the fields specified\n",
    "$$\n",
    "\\pi_{\\text{name, age}}(\\text{Student})\n",
    "$$\n",
    "This expression returns a new table with only the name and age fields.\n",
    "\n",
    "#### Renaming\n",
    "Returns a new table with fields renamed\n",
    "$$\n",
    "\\rho_{\\text{mn}\\rightarrow\\text{sid}, \\text{ email}\\rightarrow\\text{adress}}(Student)\n",
    "$$\n",
    "This is important to avoid conflicts when performing joins\n",
    "\n",
    "#### Union\n",
    "Returns the union of two tables with the same scemea\n",
    "$$\n",
    "s_1 \\cup s_2\n",
    "$$\n",
    "\n",
    "#### Diffrence\n",
    "Returns the diffrence of two tables with the same scemea\n",
    "$$\n",
    "s_1 - s_2\n",
    "$$\n",
    "\n",
    "#### Intersection\n",
    "Returns the all the rows that appear in both tables with the same scema\n",
    "$$\n",
    "s_1 \\cap s_2\n",
    "$$\n",
    "\n",
    "\n",
    "#### Cross Product\n",
    "Creates a new table with all combinations of rows in two tables\n",
    "$$\n",
    "S \\times R\n",
    "$$\n",
    "The arity will be the sum of the aritys of S and R, the length will be the product of the length of S and R.\n",
    "\n",
    "#### Relational Join\n",
    "A combination of cross-product and selection\n",
    "$$\n",
    "Student \\bowtie_{Student.mn = Takes.mn} Takes\n",
    "$$\n",
    "This will join the rows of the student and takes tables where they have the same `mn`. This is equivilent to $\\sigma_{Student.mn = Takes.mn}(Student \\times Takes)$.\n",
    "\n",
    "#### Equijoin\n",
    "A join were the predicate states fields must be equal. An equijoin predicate will follow the form:\n",
    "$$\n",
    "(a_1 = b_1) \\land ... \\land (a_k = b_k)\n",
    "$$\n",
    "\n",
    "#### Natural Join\n",
    "An equijoin of all the fields that share the same name. This is very common for joining tables with foreign key constraints."
   ]
  }
 ],
 "metadata": {
  "kernelspec": {
   "display_name": "Python 3",
   "language": "python",
   "name": "python3"
  },
  "language_info": {
   "codemirror_mode": {
    "name": "ipython",
    "version": 3
   },
   "file_extension": ".py",
   "mimetype": "text/x-python",
   "name": "python",
   "nbconvert_exporter": "python",
   "pygments_lexer": "ipython3",
   "version": "3.5.3"
  }
 },
 "nbformat": 4,
 "nbformat_minor": 2
}
