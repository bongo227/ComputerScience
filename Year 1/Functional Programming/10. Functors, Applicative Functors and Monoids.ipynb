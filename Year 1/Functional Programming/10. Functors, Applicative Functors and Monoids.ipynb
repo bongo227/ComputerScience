{
 "cells": [
  {
   "cell_type": "code",
   "execution_count": null,
   "metadata": {},
   "outputs": [],
   "source": [
    "-- IO actions are also a instance of Functor\n",
    "\n",
    "-- instance Functor IO where  \n",
    "--     fmap f action = do  \n",
    "--         result <- action  \n",
    "--         return (f result)\n",
    "\n",
    "-- we get the value out of the io action by binding it to result\n",
    "-- then put it back with return after doing f on result\n",
    "\n",
    "do\n",
    "    reversed <- fmap reverse $ readFile \"foo.txt\"\n",
    "    putStrLn reversed"
   ]
  }
 ],
 "metadata": {
  "language_info": {
   "name": "python",
   "pygments_lexer": "ipython3"
  }
 },
 "nbformat": 4,
 "nbformat_minor": 2
}
