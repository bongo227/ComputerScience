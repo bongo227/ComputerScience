{
 "cells": [
  {
   "cell_type": "code",
   "execution_count": null,
   "metadata": {},
   "outputs": [],
   "source": [
    "import Data.Char"
   ]
  },
  {
   "cell_type": "code",
   "execution_count": null,
   "metadata": {},
   "outputs": [],
   "source": [
    "f :: Char -> Int\n",
    "f c | c `elem` \"haskell\" = 5\n",
    "    | c `elem` \"HASKELL\" = 10\n",
    "    | isLower c = 1\n",
    "    | isUpper c = 2\n",
    "    | otherwise = 0\n",
    "    \n",
    "f 'A'\n",
    "f 'B'\n",
    "f '.'\n",
    "f 'a'\n",
    "f 'b'"
   ]
  },
  {
   "cell_type": "code",
   "execution_count": null,
   "metadata": {},
   "outputs": [],
   "source": [
    "g :: String -> Int\n",
    "g s = product [f c | c <- s, f c > 0]\n",
    "\n",
    "g \"aBc4E\"\n",
    "g \"Inf1-FP\"\n",
    "g \"Java\""
   ]
  },
  {
   "cell_type": "code",
   "execution_count": null,
   "metadata": {},
   "outputs": [],
   "source": [
    "h :: String -> Int\n",
    "h \"\" = 1\n",
    "h (c:cx) | (f c) > 0 = (f c) * (h cx)\n",
    "         | otherwise = (h cx)\n",
    "\n",
    "h \"aBc4E\"\n",
    "h \"Inf1-FP\"\n",
    "h \"Java\""
   ]
  },
  {
   "cell_type": "code",
   "execution_count": null,
   "metadata": {},
   "outputs": [],
   "source": [
    "c :: String -> String -> String\n",
    "c s1 s2 = [c1 | (c1, c2) <- zip s1 s2, c1 == c2]\n",
    "\n",
    "c \"parallel\" \"mutable\"\n",
    "c \"flip\" \"flop\"\n",
    "c \"kangaroo\" \"potato\"\n",
    "c \"Flip\" \"flop\""
   ]
  },
  {
   "cell_type": "code",
   "execution_count": null,
   "metadata": {},
   "outputs": [],
   "source": [
    "d :: String -> String -> String\n",
    "d _ \"\" = \"\"\n",
    "d \"\" _ = \"\"\n",
    "d (c1:c1x) (c2:c2x) | c1 == c2 = c1 : d c1x c2x\n",
    "                    | otherwise = d c1x c2x\n",
    "\n",
    "d \"parallel\" \"mutable\"\n",
    "d \"flip\" \"flop\"\n",
    "d \"kangaroo\" \"potato\"\n",
    "d \"Flip\" \"flop\""
   ]
  },
  {
   "cell_type": "code",
   "execution_count": null,
   "metadata": {},
   "outputs": [],
   "source": [
    "import Test.QuickCheck\n",
    "\n",
    "prop_cd :: String -> String -> Bool\n",
    "prop_cd s1 s2 = (c s1 s2) == (d s1 s2)\n",
    "\n",
    "quickCheck prop_cd"
   ]
  }
 ],
 "metadata": {
  "language_info": {
   "name": "python",
   "pygments_lexer": "ipython3"
  }
 },
 "nbformat": 4,
 "nbformat_minor": 2
}
