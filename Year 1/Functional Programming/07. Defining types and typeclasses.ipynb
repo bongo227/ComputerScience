{
 "cells": [
  {
   "cell_type": "code",
   "execution_count": null,
   "metadata": {},
   "outputs": [],
   "source": [
    "-- data keyword crates new types\n",
    "-- for example a circle has x, y position and a radius \n",
    "-- a rectangle has x, y, width and height\n",
    "data Shape = Circle Float Float Float | Rectangle Float Float Float Float \n",
    "\n",
    "-- we can match on these types as before\n",
    "area :: Shape -> Float\n",
    "area (Circle _ _ r) = pi * r^2\n",
    "area (Rectangle _ _ w h) = w * h\n",
    "\n",
    "area $ Circle 10 10 10\n",
    "area $ Rectangle 10 10 4 5\n",
    "\n",
    "-- by adding deriving to the end we can device certian typeclasses such as Show\n",
    "data Shape = Circle Float Float Float | Rectangle Float Float Float Float deriving (Show)\n",
    "Circle 10 10 10\n",
    "\n",
    "-- the record syntax allows you to name each type\n",
    "data Person = Person { firstName :: String\n",
    "                     , lastName :: String\n",
    "                     , age :: Int\n",
    "                     } deriving (Show)\n",
    "                     \n",
    "let p = Person \"Ben\" \"Sheffield\" 18\n",
    "firstName p\n",
    "age p"
   ]
  },
  {
   "cell_type": "code",
   "execution_count": null,
   "metadata": {},
   "outputs": [],
   "source": [
    "-- type constructors can take parameters\n",
    "data Maybe' a = Nothing' | Just' a deriving (Show)\n",
    "-- either a is nothing or its a Just type\n",
    "\n",
    "-- Another example would be a vector\n",
    "data Vector a = Vector a a a deriving (Show)  \n",
    "  \n",
    "vplus :: (Num t) => Vector t -> Vector t -> Vector t  \n",
    "(Vector i j k) `vplus` (Vector l m n) = Vector (i+l) (j+m) (k+n)  \n",
    "  \n",
    "Vector 10 10 2 `vplus` Vector 4 10 3\n",
    "Vector 2.0 5.0 2.0 `vplus` Vector 1.0 10.0 2.0"
   ]
  },
  {
   "cell_type": "code",
   "execution_count": null,
   "metadata": {},
   "outputs": [],
   "source": [
    "-- enum can also be created easily\n",
    "data Day = Monday | Tuesday | Wednesday | Thursday | Friday | Saturday | Sunday   \n",
    "           deriving (Eq, Ord, Show, Read, Bounded, Enum)  \n",
    "           \n",
    "Monday == Monday\n",
    "Friday > Monday\n",
    "Sunday"
   ]
  },
  {
   "cell_type": "code",
   "execution_count": null,
   "metadata": {},
   "outputs": [],
   "source": [
    "-- algebraic data types can also be recursive\n",
    "data BinaryTree a = Leaf a | Node (BinaryTree a) (BinaryTree a)\n",
    "                    deriving (Show)\n",
    "                    \n",
    "Node (Leaf 10) (Node (Leaf 4) (Leaf 6))\n",
    "\n",
    "-- You can use infixr to define a new operator and use it in data type constructors or functions\n",
    "infixr 5 :-:  \n",
    "data List a = Empty | a :-: (List a) deriving (Show, Read, Eq, Ord)\n",
    "\n",
    "let foo = 10 :-: 4 :-: 2 :-: Empty\n",
    "foo\n",
    "\n",
    "infixr 5 .++\n",
    "(.++) :: List a -> List a -> List a\n",
    "Empty .++ ys = ys\n",
    "(x:-:xs) .++ ys = x :-: (xs .++ ys)\n",
    "\n",
    "foo .++ (100 :-: Empty)"
   ]
  },
  {
   "cell_type": "code",
   "execution_count": null,
   "metadata": {},
   "outputs": [],
   "source": [
    "-- instance can be used to implement a typeclass on a type\n",
    "data TrafficLight = Red | Amber | Green\n",
    "instance Show TrafficLight where\n",
    "    show Red = \"Red light\"\n",
    "    show Amber = \"Amber light\"\n",
    "    show Green = \"Green light\"\n",
    "\n",
    "Red"
   ]
  },
  {
   "cell_type": "code",
   "execution_count": null,
   "metadata": {},
   "outputs": [],
   "source": [
    "-- we can add class constraints to instance declarations\n",
    "-- an example is the maybe type\n",
    "instance (Eq m) => Eq (Maybe' m) where\n",
    "    Just' x == Just' y = x == y\n",
    "    Nothing' == Nothing' = True\n",
    "    _ == _ = False\n",
    "-- Here we implment Eq on maybe \n",
    "-- however the type parameter m must also implement Eq\n",
    "\n",
    "Just' 10 == Just' 10\n",
    "Just' 10 == Just' 100\n",
    "Just' 10 == Nothing'\n",
    "Nothing' == Nothing'"
   ]
  },
  {
   "cell_type": "code",
   "execution_count": null,
   "metadata": {},
   "outputs": [],
   "source": [
    "-- functor is a typeclass that allows us to fmap over a type (like map but for any type)\n",
    "-- functor takes a type constructor (e.g. Maybe') not a concrete type (Maybe' m)\n",
    "instance Functor Maybe' where\n",
    "    fmap f (Just' x) = Just' (f x)\n",
    "    fmap f Nothing' = Nothing'\n",
    "    \n",
    "-- now we can fmap over maybe just as we can a list\n",
    "fmap (*2) (Just' 10)\n",
    "fmap (*2) [1, 2, 3]"
   ]
  }
 ],
 "metadata": {
  "language_info": {
   "name": "python",
   "pygments_lexer": "ipython3"
  }
 },
 "nbformat": 4,
 "nbformat_minor": 2
}
