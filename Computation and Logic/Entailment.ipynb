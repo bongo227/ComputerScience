{
    "cells": [
        {
            "cell_type": "markdown",
            "metadata": {},
            "source": [
                "# Entailment\n",
                "\n",
                "Consider the following system of traffic lights\n",
                "\n",
                "| Current state | Next state |\n",
                "| ------------- | ---------- |\n",
                "| <div style=\"border-radius: 1000px;border: 1px solid black;background: #fc001b;width: 20px;height: 20px;float:left;\"></div><div style=\"border-radius: 1000px;border: 1px solid black;background: #fcf936;width: 20px;height: 20px;float:left;opacity:0.2;\"></div><div style=\"border-radius: 1000px;border: 1px solid black;background: #4feb2f;width: 20px;height: 20px;float:left;opacity:0.2;\"></div> | <div style=\"border-radius: 1000px;border: 1px solid black;background: #fc001b;width: 20px;height: 20px;float:left;\"></div><div style=\"border-radius: 1000px;border: 1px solid black;background: #fcf936;width: 20px;height: 20px;float:left;\"></div><div style=\"border-radius: 1000px;border: 1px solid black;background: #4feb2f;width: 20px;height: 20px;float:left;opacity:0.2;\"></div> |\n",
                "| <div style=\"border-radius: 1000px;border: 1px solid black;background: #fc001b;width: 20px;height: 20px;float:left;\"></div><div style=\"border-radius: 1000px;border: 1px solid black;background: #fcf936;width: 20px;height: 20px;float:left;\"></div><div style=\"border-radius: 1000px;border: 1px solid black;background: #4feb2f;width: 20px;height: 20px;float:left;opacity:0.2;\"></div> | <div style=\"border-radius: 1000px;border: 1px solid black;background: #fc001b;width: 20px;height: 20px;float:left;opacity:0.2;\"></div><div style=\"border-radius: 1000px;border: 1px solid black;background: #fcf936;width: 20px;height: 20px;float:left;\"></div><div style=\"border-radius: 1000px;border: 1px solid black;background: #4feb2f;width: 20px;height: 20px;float:left;opacity:0.2;\"></div>| \n",
                "|<div style=\"border-radius: 1000px;border: 1px solid black;background: #fc001b;width: 20px;height: 20px;float:left;opacity:0.2;\"></div><div style=\"border-radius: 1000px;border: 1px solid black;background: #fcf936;width: 20px;height: 20px;float:left;\"></div><div style=\"border-radius: 1000px;border: 1px solid black;background: #4feb2f;width: 20px;height: 20px;float:left;opacity:0.2;\"></div> | <div style=\"border-radius: 1000px;border: 1px solid black;background: #fc001b;width: 20px;height: 20px;float:left;opacity:0.2;\"></div><div style=\"border-radius: 1000px;border: 1px solid black;background: #fcf936;width: 20px;height: 20px;float:left;opacity:0.2;\"></div><div style=\"border-radius: 1000px;border: 1px solid black;background: #4feb2f;width: 20px;height: 20px;float:left;\"></div> |\n",
                "| <div style=\"border-radius: 1000px;border: 1px solid black;background: #fc001b;width: 20px;height: 20px;float:left;opacity:0.2;\"></div><div style=\"border-radius: 1000px;border: 1px solid black;background: #fcf936;width: 20px;height: 20px;float:left;opacity:0.2;\"></div><div style=\"border-radius: 1000px;border: 1px solid black;background: #4feb2f;width: 20px;height: 20px;float:left;\"></div> | <div style=\"border-radius: 1000px;border: 1px solid black;background: #fc001b;width: 20px;height: 20px;float:left;\"></div><div style=\"border-radius: 1000px;border: 1px solid black;background: #fcf936;width: 20px;height: 20px;float:left;opacity:0.2;\"></div><div style=\"border-radius: 1000px;border: 1px solid black;background: #4feb2f;width: 20px;height: 20px;float:left;opacity:0.2;\"></div> |\n",
                "\n",
                "The legal states of the traffic lights can be described as $R \\,?\\, ¬G : G \\oplus A$\n",
                "\n",
                "<div style=\"display:none\">\n",
                "One way we could describe the next states would be the following:\n",
                "$$\n",
                "\\begin{align}\n",
                "R' &= R \\oplus A \\\\\n",
                "A' &= ¬A \\\\\n",
                "G' &= R \\land A\n",
                "\\end{align}\n",
                "$$\n",
                "</div>\n",
                "\n",
                "It can be shown that if the traffic lights are in a legal state then $¬A \\leftrightarrow G \\lor (R \\land ¬A)$. We can use the turnstile ($\\vdash$) operator to relate the two expressions:\n",
                "$$\n",
                "R \\,?\\, ¬G : G \\oplus A \\vdash ¬A \\leftrightarrow G \\lor (R \\land ¬A)\n",
                "$$\n",
                "This entailment is valid if any state that makes the left hand side true, also makes the right hand side true. In the is case the left hand side says the lights are in a legal state, and if the lights are in a legal state then the expression on the right hand side becomes true."
            ]
        },
        {
            "cell_type": "markdown",
            "metadata": {},
            "source": [
                "Assuming the following:\n",
                "- If the races are fixed or the gambling houses are crooked, then the tourist trade will decline.\n",
                "- If the tourist trade declines then the police force will be happy.\n",
                "- The police force is never happy.\n",
                "\n",
                "Can we conclude that the races are not fixed?\n",
                "\n",
                "Let:\n",
                "- TT: tourist trade declines\n",
                "- PH: police force are happy\n",
                "- RF: races are fixed\n",
                "- GC: gambling houses are crooked\n",
                "\n",
                "Thus:\n",
                "- If $¬PH$ then $TT$ must be $\\bot$ since $TT \\rightarrow PH$.\n",
                "- Since $TT$ is $\\bot$ then $RF \\lor GC$ must be $\\bot$.\n",
                "- $¬(RF \\lor GC)$ must be $\\top$ thus $¬RF \\land ¬GC$.\n",
                "- Thus we can conclude that the races are not fixed.\n",
                "\n",
                "We can use the notation to formalize the logic into the following:\n",
                "$$\n",
                "RF \\lor GC \\rightarrow TT, \\ TT \\rightarrow PH,\\  ¬PH \\vdash ¬RF\n",
                "$$"
            ]
        }
    ],
    "metadata": {
        "kernelspec": {
            "display_name": "Python 3",
            "language": "python",
            "name": "python3"
        },
        "language_info": {
            "codemirror_mode": {
                "name": "ipython",
                "version": 3
            },
            "file_extension": ".py",
            "mimetype": "text/x-python",
            "name": "python",
            "nbconvert_exporter": "python",
            "pygments_lexer": "ipython3",
            "version": "3.5.2+"
        }
    },
    "nbformat": 4,
    "nbformat_minor": 2
}