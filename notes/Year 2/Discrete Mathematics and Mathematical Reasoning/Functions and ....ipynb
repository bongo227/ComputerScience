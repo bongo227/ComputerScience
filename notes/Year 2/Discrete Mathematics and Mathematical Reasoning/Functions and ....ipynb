{
 "cells": [
  {
   "cell_type": "markdown",
   "metadata": {},
   "source": [
    "# Functions\n",
    "\n",
    "## Injective\n",
    "\n",
    "## Surjective\n",
    "\n",
    "$f: A \\rightarrow B$ is surjective iff $\\forall b \\in B \\; \\exists a \\in A (f(A) = b)$\n",
    "\n",
    "For every element in B, their is an element in A which is mapped onto it.\n",
    "\n",
    "Examples:\n",
    "\n",
    "- Identity function\n",
    "- $\\mathbb{Z} \\mod m$ for $m > 1$\n",
    "\n",
    "## One-to-one correspondence or bijection\n",
    "\n",
    "$f: A \\rightarrow B$ is a bijection iff it is both injective and bijective\n",
    "\n",
    "Every element in the domain is mapped to a value in the range and visa-versa.\n",
    "\n",
    "Examples\n",
    "\n",
    "- Identity function\n",
    "- $\\sqrt{x} : \\mathbb{R}^+ \\rightarrow \\mathbb{R}^+$\n",
    "\n",
    "## Composition\n",
    "\n",
    "Let $f : B \\rightarrow C$ and $g: A \\rightarrow B$. The composition function $f \\circ g : A \\rightarrow C$ is $(f \\circ g)(a) = f(g(a))$\n",
    "\n",
    "- The composition of two functions is a function\n",
    "- The composition of two injective functions is a injective function\n",
    "- The composition of two surjective functions is a surjective function\n",
    "- The composition of two bijections is a bijection\n",
    "\n",
    "## Inverse\n",
    "\n",
    "If $f: A \\rightarrow B$ is a bijection, then the inverse of $f$, written $f^{-1}:B\\rightarrow A$ is $f^{-1}(b) = a$ iff $f(a) = b$\n",
    "\n",
    "- Inverse of the identity function, is the identity function\n",
    "- Inverse of $\\sqrt{x} : \\mathbb{R}^+ \\rightarrow \\mathbb{R}^+$ is $x^2 : \\mathbb{R}^+ \\rightarrow \\mathbb{R}^+$ \n",
    "- $f^{-1} \\circ f$ and $f \\circ f^{-1}$ is the identity function\n",
    "\n",
    "## Relations\n",
    "\n",
    "A binary relation $R$ on sets $A$ and $B$ is a subset $R \\subseteq A \\times B$\n",
    "\n",
    "- Often written as $R b$ for $(a, b) \\in R$\n",
    "- A function $f$ is a restricted relation where $$\n",
    "\\forall a \\in A \\exists b \\in B \\; (((a, b) \\in f) \\land \\forall c \\in B \\; ((a, c) \\in f \\rightarrow c = b))\n",
    "$$\n",
    "    - For all a in $A$ their exsists a $b$ in $B$\n",
    "    - where (a, b) in relation $f$\n",
    "    - and $b$ is unique  \n",
    "- Given sets $A_1, ..., A_n$ a subset $R \\subseteq A_1 \\times ... \\times A_n$ is an $n$-ary relation.\n",
    "\n",
    "$R \\subseteq A \\times B$ where $A$ is students and $B$ is courses, $(\\text{Ben}, \\text{DMMR}) \\in R$"
   ]
  }
 ],
 "metadata": {
  "kernelspec": {
   "display_name": "Python 3",
   "language": "python",
   "name": "python3"
  },
  "language_info": {
   "codemirror_mode": {
    "name": "ipython",
    "version": 3
   },
   "file_extension": ".py",
   "mimetype": "text/x-python",
   "name": "python",
   "nbconvert_exporter": "python",
   "pygments_lexer": "ipython3",
   "version": "3.5.2"
  }
 },
 "nbformat": 4,
 "nbformat_minor": 2
}
