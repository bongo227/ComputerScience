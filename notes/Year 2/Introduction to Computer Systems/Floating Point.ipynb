{
 "cells": [
  {
   "cell_type": "markdown",
   "metadata": {},
   "source": [
    "## Floating point\n",
    "\n",
    "__Mantissa/significand:__ Fractional part\n",
    "\n",
    "__Exponent:__ Power of $2$\n",
    "\n",
    "> Convert $25_{10}$ in floating point form\n",
    ">\n",
    "> $25_{10} = 011001_2$\n",
    ">\n",
    "> $1.1001 \\times 2^4$\n",
    "\n",
    "### Why normalize?\n",
    "1. Simplifiys machine representation\n",
    "2. Simplifys comparisons e.g. $0.00000101$ vs $0.000001$\n",
    "3. More compact for small/large numbers\n",
    "\n",
    "### IEEE 654 Floating Point Standard\n",
    "\n",
    "- 1'st bit is sign bit ($s$)\n",
    "- 8 bits for exponent ($exp$)\n",
    "- rest for mantissa ($m$)\n",
    "\n",
    "Encoding:\n",
    "$s \\times m \\times 2 ^ {exp - 127}$\n",
    "\n",
    "(127 is the __bias__)\n",
    "\n",
    "$0.75_{10} = 0.11_2 = {(1.1 \\times 2^{-1})}_2$\n",
    "\n",
    "### Why bias?\n",
    "\n",
    "- Exponent can always be positive (no need to store sign bit)\n",
    "- Simplifys comparison operations\n",
    "\n",
    "### Special values\n",
    "\n",
    "| Exponenent | Mantisa | Number |\n",
    "| --- | --- | --- |\n",
    "| 0 | 0 | 0 |\n",
    "| 1-254 | Anything | Floating point number |\n",
    "| 255 | 0 | Infinity (signed) |\n",
    "| 255 | non-zero | NaN (not a number) |"
   ]
  }
 ],
 "metadata": {
  "kernelspec": {
   "display_name": "Python 3",
   "language": "python",
   "name": "python3"
  },
  "language_info": {
   "codemirror_mode": {
    "name": "ipython",
    "version": 3
   },
   "file_extension": ".py",
   "mimetype": "text/x-python",
   "name": "python",
   "nbconvert_exporter": "python",
   "pygments_lexer": "ipython3",
   "version": "3.6.2"
  }
 },
 "nbformat": 4,
 "nbformat_minor": 2
}
