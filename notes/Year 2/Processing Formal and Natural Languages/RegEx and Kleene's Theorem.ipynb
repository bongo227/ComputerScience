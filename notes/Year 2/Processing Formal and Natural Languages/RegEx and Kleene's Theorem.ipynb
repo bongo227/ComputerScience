{
 "cells": [
  {
   "cell_type": "markdown",
   "metadata": {},
   "source": [
    "# Closure Properties of Regular Languages\n",
    "\n",
    "## $\\epsilon$-NFA\n",
    "\n",
    "If we allow $\\epsilon$ transitions, which represents an instananious transition, NFA's can be transformed to have one start and one accepting state.\n",
    "\n",
    "This doesnt increase the power of NFA's, but it has some convenience.\n",
    "\n",
    "## Concatination\n",
    "\n",
    "$L_1 . L_2 = \\{xy | x \\in L_1, y \\in L_2\\}$\n",
    "\n",
    "$L_1 . L_2$ is the concatination of two languages, for example $\\{a, b\\}$, $\\{c, d\\}$ becomes $\\{ac, ad, bc, bd\\}$\n",
    "\n",
    "Its obvious the concatination is closed, since we can add an $\\epsilon$ transition between the start and accepting states of the machines for languages $L_1$ and $L_2$\n",
    "\n",
    "## Kleene star\n",
    "\n",
    "$L* = {\\epsilon} \\cup L \\cup L.L \\cup ...$\n",
    "\n",
    "$L*$ Is the langauge of 0 or more strings of $L$\n",
    "\n",
    "Again kleene start is also closed. By introducing a new start state with an $\\epsilon$ transition to the machine for $L$ and add a $\\epsilon$ transition back from the machine to the new accepting state. This allows the machine for $L$ to run for any amount of times."
   ]
  },
  {
   "cell_type": "markdown",
   "metadata": {},
   "source": [
    "# Regular Expressions\n",
    "\n",
    "Regular expressions are a language for defining languages.\n",
    "\n",
    "| Symbol | Definition |\n",
    "| --- | --- |\n",
    "| $\\emptyset$ | <div style=\"width: 150px\">$L(\\emptyset) = \\emptyset$</div>  |\n",
    "| $\\epsilon$ | $L(\\epsilon) = \\{\\epsilon\\}$ |\n",
    "| $a$ (for $a \\in \\sum$) | $L(a) = \\{a\\}$ |\n",
    "| $+$ | $L(a+b) = L(a) \\cup L(b)$ |\n",
    "| $.$ | $L(a.b) = L(a) . L(b)$ |\n",
    "| $*$ | $L(a*) = L(a)*$ |\n",
    "\n",
    "## Order\n",
    "In the absence of brackets the order of operation is as follows:\n",
    "\n",
    "1. $*$\n",
    "2. $.$\n",
    "3. $+$"
   ]
  },
  {
   "cell_type": "markdown",
   "metadata": {},
   "source": [
    "# Kleene's Theorem\n",
    "\n",
    "__Kleene's Theorem:__ DFA's and regular expressions give rise to exactly the same class of langauges (the regular langauges)\n",
    "\n",
    "So regular languages can be defined as regular expressions.\n",
    "\n",
    "## Kleene algebra\n",
    "\n",
    "Regular expressions can be manipulated with kleene algebra without changing the language\n",
    "\n",
    "- $a + (b + c) = (a + b) + c$\n",
    "- $a + \\emptyset$\n",
    "- ...\n",
    "- $\\epsilon + aa* = \\epsilon + a * a = a*$"
   ]
  }
 ],
 "metadata": {
  "kernelspec": {
   "display_name": "Python 3",
   "language": "python",
   "name": "python3"
  },
  "language_info": {
   "codemirror_mode": {
    "name": "ipython",
    "version": 3
   },
   "file_extension": ".py",
   "mimetype": "text/x-python",
   "name": "python",
   "nbconvert_exporter": "python",
   "pygments_lexer": "ipython3",
   "version": "3.5.2"
  }
 },
 "nbformat": 4,
 "nbformat_minor": 2
}
