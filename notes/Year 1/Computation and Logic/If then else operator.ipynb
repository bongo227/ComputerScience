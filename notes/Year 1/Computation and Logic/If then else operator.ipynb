{
 "cells": [
  {
   "cell_type": "markdown",
   "metadata": {},
   "source": [
    "# If then else operator\n",
    "\n",
    "The if then else operator is the same as a tunary conditional operator in many programming languages\n",
    "$$\n",
    "m \\,?\\, p : q\n",
    "$$\n",
    "The expression simply says if m is $\\top$ then the expression is $p$, else if m is $\\bot$ then the expression is $q$.\n",
    "\n",
    "Consider the legal states of a traffic light:\n",
    "<div style=\"border-radius: 1000px;border: 1px solid black;background: #fc001b;width: 20px;height: 20px;float:left;\"></div>\n",
    "<div style=\"border-radius: 1000px;border: 1px solid black;background: #fcf936;width: 20px;height: 20px;float:left;opacity:0.2;\"></div>\n",
    "<div style=\"border-radius: 1000px;border: 1px solid black;background: #4feb2f;width: 20px;height: 20px;float:left;opacity:0.2;\"></div>\n",
    "<br></br>\n",
    "<div style=\"border-radius: 1000px;border: 1px solid black;background: #fc001b;width: 20px;height: 20px;float:left;opacity:0.2;\"></div>\n",
    "<div style=\"border-radius: 1000px;border: 1px solid black;background: #fcf936;width: 20px;height: 20px;float:left;\"></div>\n",
    "<div style=\"border-radius: 1000px;border: 1px solid black;background: #4feb2f;width: 20px;height: 20px;float:left;opacity:0.2;\"></div>\n",
    "<br></br>\n",
    "<div style=\"border-radius: 1000px;border: 1px solid black;background: #fc001b;width: 20px;height: 20px;float:left;opacity:0.2;\"></div>\n",
    "<div style=\"border-radius: 1000px;border: 1px solid black;background: #fcf936;width: 20px;height: 20px;float:left;opacity:0.2;\"></div>\n",
    "<div style=\"border-radius: 1000px;border: 1px solid black;background: #4feb2f;width: 20px;height: 20px;float:left;\"></div>\n",
    "<br></br>\n",
    "<div style=\"border-radius: 1000px;border: 1px solid black;background: #fc001b;width: 20px;height: 20px;float:left;\"></div>\n",
    "<div style=\"border-radius: 1000px;border: 1px solid black;background: #fcf936;width: 20px;height: 20px;float:left;\"></div>\n",
    "<div style=\"border-radius: 1000px;border: 1px solid black;background: #4feb2f;width: 20px;height: 20px;float:left;opacity:0.2;\"></div>\n",
    "<br></br>\n",
    "\n",
    "We can describe the legal states of the traffic light as:\n",
    "$$\n",
    "R \\,?\\, ¬G : A \\oplus G\n",
    "$$\n",
    "If $R$ is $\\top$ then we $A$ can either be $\\top$ or $\\bot$ so we use $¬G$ since the green light must not be on when it is red. If $R$ is $\\bot$ then the light must either be $A$ or $G$."
   ]
  }
 ],
 "metadata": {
  "language_info": {
   "name": "python",
   "pygments_lexer": "ipython3"
  }
 },
 "nbformat": 4,
 "nbformat_minor": 2
}
