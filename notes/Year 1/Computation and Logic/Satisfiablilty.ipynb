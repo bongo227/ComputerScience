{
 "cells": [
  {
   "cell_type": "markdown",
   "metadata": {},
   "source": [
    "# Satisfiablity\n",
    "\n",
    "If we have a chain of implies operators, starting at $\\bot$ and ending with $\\top$ like so:\n",
    "$$\n",
    "\\bot \\rightarrow P \\rightarrow Q \\rightarrow R \\rightarrow S \\rightarrow \\top\n",
    "$$\n",
    "We can draw a line through any of the implies operators and make all the expressions to the left/bellow it false, and all the expression right/above it true and it will obey the rules.\n",
    "\n",
    "This leads to the ordering of $A \\rightarrow B$\n",
    "$$\n",
    "A \\leq B \\leftrightarrow A \\rightarrow B = \\top \\leftrightarrow A \\land B = A \\leftrightarrow A \\lor B = B\n",
    "$$\n",
    "\n",
    "- $A \\leq B$ the set of things that make A true is contained within the set of things that make B true\n",
    "- $A \\land B = A$ the greatest thing that is less than or equal to A and B is A\n",
    "- $A \\lor B = B$ the least thing that is greater than or equal to A and B is B\n",
    "\n",
    "We know (from truth tables) their are three ways to make $A \\rightarrow B$ true. these corrospond with the three possible lines we can draw on the following:\n",
    "$$\n",
    "\\bot \\rightarrow A \\rightarrow B \\rightarrow \\top\n",
    "$$\n",
    "- $\\bot \\rightarrow \\top \\rightarrow \\top \\rightarrow \\top$\n",
    "- $\\bot \\rightarrow \\bot \\rightarrow \\top \\rightarrow \\top$\n",
    "- $\\bot \\rightarrow \\bot \\rightarrow \\bot \\rightarrow \\top$\n"
   ]
  },
  {
   "cell_type": "markdown",
   "metadata": {},
   "source": [
    "A problem occors if you have the same variable and its negation\n",
    "$$\n",
    "\\bot \\rightarrow ¬P \\rightarrow Q \\rightarrow P \\rightarrow S \\rightarrow \\top\n",
    "$$\n",
    "\n",
    "We cant make $P$ and $¬P$ both true or both false, so any lines we draw must be between those two. In this case only two lines, thus sets of values make this expression $\\top$\n",
    "\n",
    "We can see then that $P$ must always be true, hence:\n",
    "$$\n",
    "(¬P \\rightarrow P) \\rightarrow P\\\\\n",
    "(R \\rightarrow ¬R) \\rightarrow ¬R\n",
    "$$"
   ]
  },
  {
   "attachments": {
    "Untitled%20Diagram.png": {
     "image/png": "[encoded data removed]"
    }
   },
   "cell_type": "markdown",
   "metadata": {},
   "source": [
    "This can be used to solve problems, for example consider the following constraints\n",
    "\n",
    "- You may not take both Archeology and Chemistry\n",
    "- If you take Biology you must take Chemistry\n",
    "- You must take Biology or Archeology\n",
    "- If you take Chemistry you must take Divinity\n",
    "- You may not take both Divinity and Biology\n",
    "\n",
    "which we can formalize into:\n",
    "$$\n",
    "(A\\rightarrow¬C) \\land (B \\rightarrow C) \\land (¬B \\rightarrow A) \\land (C \\rightarrow D) \\land (D \\rightarrow ¬B)\n",
    "$$\n",
    "which is equivilent to:\n",
    "$$\n",
    "(C\\rightarrow¬A) \\land (¬C \\rightarrow ¬B) \\land (¬A \\rightarrow B) \\land (¬D \\rightarrow ¬C) \\land (B \\rightarrow ¬D)\n",
    "$$\n",
    "\n",
    "If we draw the diagram of this so that no lines overlap we get this:\n",
    "\n",
    "![Untitled%20Diagram.png](attachment:Untitled%20Diagram.png)\n",
    "\n",
    "Notice the cycles at the top and bottom. We cant cut a cycle becuause everything in the cycle must have the same values. We have a $¬A$ and $A$ so we must cut between them. This leaves two posibilitys:\n",
    "\n",
    "- Archelogy\n",
    "- Archelogy and Divinity"
   ]
  }
 ],
 "metadata": {
  "language_info": {
   "name": "python",
   "pygments_lexer": "ipython3"
  }
 },
 "nbformat": 4,
 "nbformat_minor": 2
}
