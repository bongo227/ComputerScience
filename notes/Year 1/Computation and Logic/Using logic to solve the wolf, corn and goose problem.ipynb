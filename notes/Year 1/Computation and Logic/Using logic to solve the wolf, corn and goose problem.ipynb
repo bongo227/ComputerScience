{
 "cells": [
  {
   "cell_type": "markdown",
   "metadata": {},
   "source": [
    "# Using logic to solve the wolf, corn and goose problem\n",
    "\n",
    "Given a wolf, corn, goose and farmer and three locations west, boat and east where the wolf cant be left with the corn and the corn cant be left with the goose. How can the farmer move every entity to from the west to the east if the boat can only hold the farmer and one other entity at a time.\n",
    "\n",
    "First we must come up with a notation to describe the entity and its position."
   ]
  },
  {
   "cell_type": "code",
   "execution_count": 1,
   "metadata": {},
   "outputs": [
    {
     "name": "stdout",
     "output_type": "stream",
     "text": [
      "['WW', 'WB', 'WE', 'CW', 'CB', 'CE', 'GW', 'GB', 'GE', 'FW', 'FB', 'FE']\n"
     ]
    }
   ],
   "source": [
    "WW, WB, WE = 'WW', 'WB', 'WE'\n",
    "CW, CB, CE = 'CW', 'CB', 'CE'\n",
    "GW, GB, GE = 'GW', 'GB', 'GE'\n",
    "FW, FB, FE = 'FW', 'FB', 'FE'\n",
    "states = [WW, WB, WE, CW, CB, CE, GW, GB, GE, FW, FB, FE]\n",
    "print(states)"
   ]
  },
  {
   "cell_type": "markdown",
   "metadata": {},
   "source": [
    "Here we use the first letter of the location and entity to represent the state, for example WW means the wolf is on the west.\n",
    "\n",
    "The number of subsets is $2^n$, where n is the size of the set, so for this problem their is $2^{12} = 4096$ subsets, which can be demonstrated bellow by finding all subsets."
   ]
  },
  {
   "cell_type": "code",
   "execution_count": 2,
   "metadata": {},
   "outputs": [
    {
     "name": "stdout",
     "output_type": "stream",
     "text": [
      "4096\n"
     ]
    }
   ],
   "source": [
    "from itertools import combinations\n",
    "\n",
    "subsets=[]\n",
    "for i in range(len(states)+1):\n",
    "    subsets.extend(combinations(states, r=i))\n",
    "        \n",
    "print(len(subsets))"
   ]
  },
  {
   "cell_type": "markdown",
   "metadata": {},
   "source": [
    "Not all of these subsets are valid, for example each entity can only be at one place at a time. To represent that with logic we can use the following:\n",
    "$$(WW \\oplus WB \\oplus WE) \\land \\overline{WW \\land WB \\land WE}$$\n",
    "\n",
    "> Interestingly xoring a number of things will return true if an odd amount of them are true, this in this case we must ensure the case were the wolf is in all 3 locations is false, hence the and."
   ]
  },
  {
   "cell_type": "code",
   "execution_count": 3,
   "metadata": {},
   "outputs": [
    {
     "name": "stdout",
     "output_type": "stream",
     "text": [
      "81\n"
     ]
    }
   ],
   "source": [
    "wolf = lambda s: ((WW in s) ^ (WB in s) ^ (WE in s)) and not((WW in s) and (WB in s) and (WE in s))\n",
    "corn = lambda s: ((CW in s) ^ (CB in s) ^ (CE in s)) and not((CW in s) and (CB in s) and (CE in s))\n",
    "goose = lambda s: ((GW in s) ^ (GB in s) ^ (GE in s)) and not((GW in s) and (GB in s) and (GE in s))\n",
    "farmer = lambda s: ((FW in s) ^ (FB in s) ^ (FE in s)) and not((FW in s) and (FB in s) and (FE in s))\n",
    "\n",
    "for f in [wolf, corn, goose, farmer]:\n",
    "    subsets=list(filter(f, subsets))\n",
    "\n",
    "print(len(subsets))"
   ]
  },
  {
   "cell_type": "markdown",
   "metadata": {},
   "source": [
    "No we have reduced the number of states to 81. We know that this is correct since their are 4 entities which can be in 3 locations thus their are $3^4 = 81$ states.\n",
    "\n",
    "Again not all these states are legal, since the farmer must travel with another entity, the following must be true\n",
    "$$\n",
    "WB \\rightarrow FB \\\\\n",
    "CB \\rightarrow FB \\\\\n",
    "GB \\rightarrow FB\n",
    "$$"
   ]
  },
  {
   "cell_type": "code",
   "execution_count": 4,
   "metadata": {},
   "outputs": [
    {
     "name": "stdout",
     "output_type": "stream",
     "text": [
      "43\n"
     ]
    }
   ],
   "source": [
    "def impl(lhs, rhs):\n",
    "    return rhs if lhs else True\n",
    "\n",
    "wolf = lambda s: impl(WB in s, FB in s)\n",
    "corn = lambda s: impl(CB in s, FB in s)\n",
    "goose = lambda s: impl(GB in s, FB in s)\n",
    "\n",
    "for f in [wolf, corn, goose]:\n",
    "    subsets=list(filter(f, subsets))\n",
    "\n",
    "print(len(list(subsets)))"
   ]
  },
  {
   "cell_type": "markdown",
   "metadata": {},
   "source": [
    "The farmer can only take one other entity at a time, thus:\n",
    "$$\\overline{WB \\land CB} \\land \\overline{CB \\land GB} \\land \\overline{GB \\land WB}$$"
   ]
  },
  {
   "cell_type": "code",
   "execution_count": 5,
   "metadata": {},
   "outputs": [
    {
     "name": "stdout",
     "output_type": "stream",
     "text": [
      "36\n"
     ]
    }
   ],
   "source": [
    "valid_boat = lambda s: not((WB in s) and (CB in s)) and \\\n",
    "                       not((CB in s) and (GB in s)) and \\\n",
    "                       not((GB in s) and (WB in s))\n",
    "        \n",
    "subsets=list(filter(valid_boat, subsets))\n",
    "print(len(list(subsets)))"
   ]
  },
  {
   "cell_type": "markdown",
   "metadata": {},
   "source": [
    "All that is left now is to remove all the unsafe states\n",
    "\n",
    "__The Wolf cant be left with corn__, thus if the wolf and corn are in the same location the farmer must also be at that locations:\n",
    "$$\n",
    "WW \\land GW \\rightarrow FW \\\\\n",
    "WE \\land GE \\rightarrow FE\n",
    "$$\n",
    "\n",
    "Similarly, __the corn cant be left with goose__, thus if the goose and corn are in the same location the farmer is also their:\n",
    "$$\n",
    "CW \\land GW \\rightarrow FW \\\\ \n",
    "CE \\land GE \\rightarrow FE\n",
    "$$"
   ]
  },
  {
   "cell_type": "code",
   "execution_count": 6,
   "metadata": {},
   "outputs": [
    {
     "name": "stdout",
     "output_type": "stream",
     "text": [
      "20\n"
     ]
    }
   ],
   "source": [
    "wolf_corn_west = lambda s: FW in s if ((WW in s) and (GW in s)) else True\n",
    "wolf_corn_east = lambda s: FE in s if ((WE in s) and (GE in s)) else True\n",
    "corn_goose_west = lambda s: FW in s if ((CW in s) and (GW in s)) else True\n",
    "corn_goose_east = lambda s: FE in s if ((CE in s) and (GE in s)) else True\n",
    "\n",
    "subsets=list(filter(wolf_corn_west, subsets))\n",
    "subsets=list(filter(wolf_corn_east, subsets))\n",
    "subsets=list(filter(corn_goose_west, subsets))\n",
    "subsets=list(filter(corn_goose_east, subsets))\n",
    "\n",
    "print(len(subsets))"
   ]
  },
  {
   "cell_type": "markdown",
   "metadata": {},
   "source": [
    "Finally we are left with just 20 states that are legal and safe. The 20 states are as follows:"
   ]
  },
  {
   "cell_type": "code",
   "execution_count": 7,
   "metadata": {},
   "outputs": [
    {
     "name": "stdout",
     "output_type": "stream",
     "text": [
      "WW, CW, GW, FW\n",
      "WW, CW, GB, FB\n",
      "WW, CW, GE, FW\n",
      "WW, CW, GE, FB\n",
      "WW, CW, GE, FE\n",
      "WW, CB, GE, FB\n",
      "WW, CE, GW, FW\n",
      "WW, CE, GB, FB\n",
      "WW, CE, GE, FE\n",
      "WB, CW, GE, FB\n",
      "WB, CE, GW, FB\n",
      "WE, CW, GW, FW\n",
      "WE, CW, GB, FB\n",
      "WE, CW, GE, FE\n",
      "WE, CB, GW, FB\n",
      "WE, CE, GW, FW\n",
      "WE, CE, GW, FB\n",
      "WE, CE, GW, FE\n",
      "WE, CE, GB, FB\n",
      "WE, CE, GE, FE\n"
     ]
    }
   ],
   "source": [
    "for s in subsets:\n",
    "    print(', '.join(s))"
   ]
  },
  {
   "cell_type": "markdown",
   "metadata": {},
   "source": [
    "Even though we have found all the safe states, we still cant answer questions such as what is the minimum number of steps required to cross the river. To do that we will need to transform the states into a graph where the edges would represent valid transitions from one state to another.\n",
    "\n",
    "In order to form this graph we must start by defining what a valid transition is. For example if an entity was on the west, in the next state it cant be in the east and visa versa.\n",
    "$$\n",
    "WW' \\rightarrow \\overline{WE'} \\\\\n",
    "CW' \\rightarrow \\overline{CE'} \\\\\n",
    "GW' \\rightarrow \\overline{GE'} \\\\\n",
    "FW' \\rightarrow \\overline{FE'}\n",
    "$$\n",
    "(repeated for the oppisite direction)\n",
    "\n",
    "If the farmer is in the boat with another entity, the farmer must have been in the boat or they were both on the same side.\n",
    "$$\n",
    "FB \\lor WB \\rightarrow FB \\lor (WE \\land FE) \\lor (WW \\land FW) \\\\\n",
    "CB \\lor CB \\rightarrow FB \\lor (CE \\land FE) \\lor (CW \\land FW) \\\\\n",
    "GB \\lor GB \\rightarrow FB \\lor (GE \\land FE) \\lor (GW \\land FW)\n",
    "$$\n",
    "\n",
    "If the farmer and another entity are on opposite sides, they both cant end up in the boat.\n",
    "$$\n",
    "(FE \\land WW) \\lor (FW \\land WE) \\rightarrow \\overline{WB'} \\\\\n",
    "(FE \\land CW) \\lor (FW \\land CE) \\rightarrow \\overline{CB'} \\\\\n",
    "(FE \\land GW) \\lor (FW \\land GE) \\rightarrow \\overline{GB'}\n",
    "$$\n",
    "\n",
    "Entities (except from the farmer) cannot stay in the boat. \n",
    "$$\n",
    "\\overline{WB' \\lor CB' \\lor GB'} \\rightarrow WB \\lor CB \\lor GB\n",
    "$$"
   ]
  },
  {
   "cell_type": "code",
   "execution_count": 8,
   "metadata": {},
   "outputs": [
    {
     "data": {
      "image/svg+xml": [
       "<?xml version=\"1.0\" encoding=\"UTF-8\" standalone=\"no\"?>\n",
       "<!DOCTYPE svg PUBLIC \"-//W3C//DTD SVG 1.1//EN\"\n",
       " \"http://www.w3.org/Graphics/SVG/1.1/DTD/svg11.dtd\">\n",
       "<!-- Generated by graphviz version 2.38.0 (20140413.2041)\n",
       " -->\n",
       "<!-- Title: %3 Pages: 1 -->\n",
       "<svg width=\"648pt\" height=\"245pt\"\n",
       " viewBox=\"0.00 0.00 648.00 245.33\" xmlns=\"http://www.w3.org/2000/svg\" xmlns:xlink=\"http://www.w3.org/1999/xlink\">\n",
       "<g id=\"graph0\" class=\"graph\" transform=\"scale(0.515395 0.515395) rotate(0) translate(4 472)\">\n",
       "<title>%3</title>\n",
       "<polygon fill=\"white\" stroke=\"none\" points=\"-4,4 -4,-472 1253.29,-472 1253.29,4 -4,4\"/>\n",
       "<!-- WW,CW,GW,FW -->\n",
       "<g id=\"node1\" class=\"node\"><title>WW,CW,GW,FW</title>\n",
       "<ellipse fill=\"none\" stroke=\"black\" cx=\"112.144\" cy=\"-450\" rx=\"79.0865\" ry=\"18\"/>\n",
       "<text text-anchor=\"middle\" x=\"112.144\" y=\"-446.3\" font-family=\"Times,serif\" font-size=\"14.00\">WW,CW,GW,FW</text>\n",
       "</g>\n",
       "<!-- WW,CW,GB,FB -->\n",
       "<g id=\"node2\" class=\"node\"><title>WW,CW,GB,FB</title>\n",
       "<ellipse fill=\"none\" stroke=\"black\" cx=\"112.144\" cy=\"-378\" rx=\"73.387\" ry=\"18\"/>\n",
       "<text text-anchor=\"middle\" x=\"112.144\" y=\"-374.3\" font-family=\"Times,serif\" font-size=\"14.00\">WW,CW,GB,FB</text>\n",
       "</g>\n",
       "<!-- WW,CW,GW,FW&#45;&#45;WW,CW,GB,FB -->\n",
       "<g id=\"edge1\" class=\"edge\"><title>WW,CW,GW,FW&#45;&#45;WW,CW,GB,FB</title>\n",
       "<path fill=\"none\" stroke=\"black\" d=\"M112.144,-431.697C112.144,-420.846 112.144,-406.917 112.144,-396.104\"/>\n",
       "</g>\n",
       "<!-- WW,CW,GE,FB -->\n",
       "<g id=\"node3\" class=\"node\"><title>WW,CW,GE,FB</title>\n",
       "<ellipse fill=\"none\" stroke=\"black\" cx=\"203.144\" cy=\"-306\" rx=\"72.5877\" ry=\"18\"/>\n",
       "<text text-anchor=\"middle\" x=\"203.144\" y=\"-302.3\" font-family=\"Times,serif\" font-size=\"14.00\">WW,CW,GE,FB</text>\n",
       "</g>\n",
       "<!-- WW,CW,GB,FB&#45;&#45;WW,CW,GE,FB -->\n",
       "<g id=\"edge2\" class=\"edge\"><title>WW,CW,GB,FB&#45;&#45;WW,CW,GE,FB</title>\n",
       "<path fill=\"none\" stroke=\"black\" d=\"M133.709,-360.411C148.321,-349.172 167.535,-334.391 182.047,-323.228\"/>\n",
       "</g>\n",
       "<!-- WW,CW,GE,FE -->\n",
       "<g id=\"node4\" class=\"node\"><title>WW,CW,GE,FE</title>\n",
       "<ellipse fill=\"none\" stroke=\"black\" cx=\"72.1436\" cy=\"-234\" rx=\"72.2875\" ry=\"18\"/>\n",
       "<text text-anchor=\"middle\" x=\"72.1436\" y=\"-230.3\" font-family=\"Times,serif\" font-size=\"14.00\">WW,CW,GE,FE</text>\n",
       "</g>\n",
       "<!-- WW,CW,GB,FB&#45;&#45;WW,CW,GE,FE -->\n",
       "<g id=\"edge3\" class=\"edge\"><title>WW,CW,GB,FB&#45;&#45;WW,CW,GE,FE</title>\n",
       "<path fill=\"none\" stroke=\"black\" d=\"M107.319,-359.871C99.6305,-332.578 84.6846,-279.52 76.9856,-252.189\"/>\n",
       "</g>\n",
       "<!-- WW,CW,GE,FB&#45;&#45;WW,CW,GE,FE -->\n",
       "<g id=\"edge7\" class=\"edge\"><title>WW,CW,GE,FB&#45;&#45;WW,CW,GE,FE</title>\n",
       "<path fill=\"none\" stroke=\"black\" d=\"M174.07,-289.465C152.362,-277.865 122.825,-262.082 101.135,-250.492\"/>\n",
       "</g>\n",
       "<!-- WW,CB,GE,FB -->\n",
       "<g id=\"node6\" class=\"node\"><title>WW,CB,GE,FB</title>\n",
       "<ellipse fill=\"none\" stroke=\"black\" cx=\"232.144\" cy=\"-234\" rx=\"69.5877\" ry=\"18\"/>\n",
       "<text text-anchor=\"middle\" x=\"232.144\" y=\"-230.3\" font-family=\"Times,serif\" font-size=\"14.00\">WW,CB,GE,FB</text>\n",
       "</g>\n",
       "<!-- WW,CW,GE,FB&#45;&#45;WW,CB,GE,FB -->\n",
       "<g id=\"edge8\" class=\"edge\"><title>WW,CW,GE,FB&#45;&#45;WW,CB,GE,FB</title>\n",
       "<path fill=\"none\" stroke=\"black\" d=\"M210.164,-288.055C214.656,-277.211 220.468,-263.183 224.987,-252.275\"/>\n",
       "</g>\n",
       "<!-- WB,CW,GE,FB -->\n",
       "<g id=\"node7\" class=\"node\"><title>WB,CW,GE,FB</title>\n",
       "<ellipse fill=\"none\" stroke=\"black\" cx=\"389.144\" cy=\"-234\" rx=\"69.5877\" ry=\"18\"/>\n",
       "<text text-anchor=\"middle\" x=\"389.144\" y=\"-230.3\" font-family=\"Times,serif\" font-size=\"14.00\">WB,CW,GE,FB</text>\n",
       "</g>\n",
       "<!-- WW,CW,GE,FB&#45;&#45;WB,CW,GE,FB -->\n",
       "<g id=\"edge9\" class=\"edge\"><title>WW,CW,GE,FB&#45;&#45;WB,CW,GE,FB</title>\n",
       "<path fill=\"none\" stroke=\"black\" d=\"M241.683,-290.496C273.818,-278.402 319.348,-261.267 351.29,-249.246\"/>\n",
       "</g>\n",
       "<!-- WW,CW,GE,FW -->\n",
       "<g id=\"node5\" class=\"node\"><title>WW,CW,GE,FW</title>\n",
       "<ellipse fill=\"none\" stroke=\"black\" cx=\"304.144\" cy=\"-378\" rx=\"75.2868\" ry=\"18\"/>\n",
       "<text text-anchor=\"middle\" x=\"304.144\" y=\"-374.3\" font-family=\"Times,serif\" font-size=\"14.00\">WW,CW,GE,FW</text>\n",
       "</g>\n",
       "<!-- WW,CW,GE,FW&#45;&#45;WW,CW,GE,FB -->\n",
       "<g id=\"edge4\" class=\"edge\"><title>WW,CW,GE,FW&#45;&#45;WW,CW,GE,FB</title>\n",
       "<path fill=\"none\" stroke=\"black\" d=\"M280.718,-360.765C264.402,-349.456 242.731,-334.437 226.442,-323.147\"/>\n",
       "</g>\n",
       "<!-- WW,CW,GE,FW&#45;&#45;WW,CB,GE,FB -->\n",
       "<g id=\"edge5\" class=\"edge\"><title>WW,CW,GE,FW&#45;&#45;WW,CB,GE,FB</title>\n",
       "<path fill=\"none\" stroke=\"black\" d=\"M303.367,-359.94C301.887,-341.256 297.593,-310.905 285.144,-288 277.376,-273.709 264.558,-260.738 253.473,-251.205\"/>\n",
       "</g>\n",
       "<!-- WW,CW,GE,FW&#45;&#45;WB,CW,GE,FB -->\n",
       "<g id=\"edge6\" class=\"edge\"><title>WW,CW,GE,FW&#45;&#45;WB,CW,GE,FB</title>\n",
       "<path fill=\"none\" stroke=\"black\" d=\"M314.228,-360.153C330.587,-332.824 362.722,-279.14 379.072,-251.825\"/>\n",
       "</g>\n",
       "<!-- WW,CE,GE,FE -->\n",
       "<g id=\"node8\" class=\"node\"><title>WW,CE,GE,FE</title>\n",
       "<ellipse fill=\"none\" stroke=\"black\" cx=\"232.144\" cy=\"-162\" rx=\"68.7879\" ry=\"18\"/>\n",
       "<text text-anchor=\"middle\" x=\"232.144\" y=\"-158.3\" font-family=\"Times,serif\" font-size=\"14.00\">WW,CE,GE,FE</text>\n",
       "</g>\n",
       "<!-- WW,CB,GE,FB&#45;&#45;WW,CE,GE,FE -->\n",
       "<g id=\"edge10\" class=\"edge\"><title>WW,CB,GE,FB&#45;&#45;WW,CE,GE,FE</title>\n",
       "<path fill=\"none\" stroke=\"black\" d=\"M232.144,-215.697C232.144,-204.846 232.144,-190.917 232.144,-180.104\"/>\n",
       "</g>\n",
       "<!-- WE,CW,GE,FE -->\n",
       "<g id=\"node12\" class=\"node\"><title>WE,CW,GE,FE</title>\n",
       "<ellipse fill=\"none\" stroke=\"black\" cx=\"546.144\" cy=\"-162\" rx=\"68.7879\" ry=\"18\"/>\n",
       "<text text-anchor=\"middle\" x=\"546.144\" y=\"-158.3\" font-family=\"Times,serif\" font-size=\"14.00\">WE,CW,GE,FE</text>\n",
       "</g>\n",
       "<!-- WB,CW,GE,FB&#45;&#45;WE,CW,GE,FE -->\n",
       "<g id=\"edge14\" class=\"edge\"><title>WB,CW,GE,FB&#45;&#45;WE,CW,GE,FE</title>\n",
       "<path fill=\"none\" stroke=\"black\" d=\"M422.439,-218.155C449.083,-206.276 486.265,-189.697 512.896,-177.824\"/>\n",
       "</g>\n",
       "<!-- WW,CE,GW,FW -->\n",
       "<g id=\"node9\" class=\"node\"><title>WW,CE,GW,FW</title>\n",
       "<ellipse fill=\"none\" stroke=\"black\" cx=\"621.144\" cy=\"-306\" rx=\"75.2868\" ry=\"18\"/>\n",
       "<text text-anchor=\"middle\" x=\"621.144\" y=\"-302.3\" font-family=\"Times,serif\" font-size=\"14.00\">WW,CE,GW,FW</text>\n",
       "</g>\n",
       "<!-- WW,CE,GB,FB -->\n",
       "<g id=\"node10\" class=\"node\"><title>WW,CE,GB,FB</title>\n",
       "<ellipse fill=\"none\" stroke=\"black\" cx=\"546.144\" cy=\"-234\" rx=\"69.5877\" ry=\"18\"/>\n",
       "<text text-anchor=\"middle\" x=\"546.144\" y=\"-230.3\" font-family=\"Times,serif\" font-size=\"14.00\">WW,CE,GB,FB</text>\n",
       "</g>\n",
       "<!-- WW,CE,GW,FW&#45;&#45;WW,CE,GB,FB -->\n",
       "<g id=\"edge11\" class=\"edge\"><title>WW,CE,GW,FW&#45;&#45;WW,CE,GB,FB</title>\n",
       "<path fill=\"none\" stroke=\"black\" d=\"M603.37,-288.411C591.414,-277.252 575.719,-262.604 563.79,-251.47\"/>\n",
       "</g>\n",
       "<!-- WB,CE,GW,FB -->\n",
       "<g id=\"node11\" class=\"node\"><title>WB,CE,GW,FB</title>\n",
       "<ellipse fill=\"none\" stroke=\"black\" cx=\"860.144\" cy=\"-234\" rx=\"69.5877\" ry=\"18\"/>\n",
       "<text text-anchor=\"middle\" x=\"860.144\" y=\"-230.3\" font-family=\"Times,serif\" font-size=\"14.00\">WB,CE,GW,FB</text>\n",
       "</g>\n",
       "<!-- WW,CE,GW,FW&#45;&#45;WB,CE,GW,FB -->\n",
       "<g id=\"edge12\" class=\"edge\"><title>WW,CE,GW,FW&#45;&#45;WB,CE,GW,FB</title>\n",
       "<path fill=\"none\" stroke=\"black\" d=\"M666.942,-291.586C709.774,-279.041 773.329,-260.427 815.713,-248.013\"/>\n",
       "</g>\n",
       "<!-- WW,CE,GB,FB&#45;&#45;WW,CE,GE,FE -->\n",
       "<g id=\"edge13\" class=\"edge\"><title>WW,CE,GB,FB&#45;&#45;WW,CE,GE,FE</title>\n",
       "<path fill=\"none\" stroke=\"black\" d=\"M495.345,-221.675C436.851,-208.635 341.332,-187.341 282.869,-174.308\"/>\n",
       "</g>\n",
       "<!-- WE,CE,GW,FB -->\n",
       "<g id=\"node13\" class=\"node\"><title>WE,CE,GW,FB</title>\n",
       "<ellipse fill=\"none\" stroke=\"black\" cx=\"1032.14\" cy=\"-162\" rx=\"69.5877\" ry=\"18\"/>\n",
       "<text text-anchor=\"middle\" x=\"1032.14\" y=\"-158.3\" font-family=\"Times,serif\" font-size=\"14.00\">WE,CE,GW,FB</text>\n",
       "</g>\n",
       "<!-- WB,CE,GW,FB&#45;&#45;WE,CE,GW,FB -->\n",
       "<g id=\"edge15\" class=\"edge\"><title>WB,CE,GW,FB&#45;&#45;WE,CE,GW,FB</title>\n",
       "<path fill=\"none\" stroke=\"black\" d=\"M895.782,-218.496C925.302,-206.482 967.044,-189.494 996.551,-177.485\"/>\n",
       "</g>\n",
       "<!-- WE,CE,GW,FE -->\n",
       "<g id=\"node14\" class=\"node\"><title>WE,CE,GW,FE</title>\n",
       "<ellipse fill=\"none\" stroke=\"black\" cx=\"934.144\" cy=\"-90\" rx=\"68.7879\" ry=\"18\"/>\n",
       "<text text-anchor=\"middle\" x=\"934.144\" y=\"-86.3\" font-family=\"Times,serif\" font-size=\"14.00\">WE,CE,GW,FE</text>\n",
       "</g>\n",
       "<!-- WB,CE,GW,FB&#45;&#45;WE,CE,GW,FE -->\n",
       "<g id=\"edge16\" class=\"edge\"><title>WB,CE,GW,FB&#45;&#45;WE,CE,GW,FE</title>\n",
       "<path fill=\"none\" stroke=\"black\" d=\"M869.07,-215.871C883.293,-188.578 910.943,-135.52 925.186,-108.189\"/>\n",
       "</g>\n",
       "<!-- WE,CE,GW,FB&#45;&#45;WE,CE,GW,FE -->\n",
       "<g id=\"edge24\" class=\"edge\"><title>WE,CE,GW,FB&#45;&#45;WE,CE,GW,FE</title>\n",
       "<path fill=\"none\" stroke=\"black\" d=\"M1009.41,-144.765C993.582,-133.456 972.555,-118.437 956.75,-107.147\"/>\n",
       "</g>\n",
       "<!-- WE,CE,GB,FB -->\n",
       "<g id=\"node19\" class=\"node\"><title>WE,CE,GB,FB</title>\n",
       "<ellipse fill=\"none\" stroke=\"black\" cx=\"1124.14\" cy=\"-90\" rx=\"66.0889\" ry=\"18\"/>\n",
       "<text text-anchor=\"middle\" x=\"1124.14\" y=\"-86.3\" font-family=\"Times,serif\" font-size=\"14.00\">WE,CE,GB,FB</text>\n",
       "</g>\n",
       "<!-- WE,CE,GW,FB&#45;&#45;WE,CE,GB,FB -->\n",
       "<g id=\"edge25\" class=\"edge\"><title>WE,CE,GW,FB&#45;&#45;WE,CE,GB,FB</title>\n",
       "<path fill=\"none\" stroke=\"black\" d=\"M1053.48,-144.765C1068.34,-133.456 1088.08,-118.437 1102.92,-107.147\"/>\n",
       "</g>\n",
       "<!-- WE,CW,GW,FW -->\n",
       "<g id=\"node15\" class=\"node\"><title>WE,CW,GW,FW</title>\n",
       "<ellipse fill=\"none\" stroke=\"black\" cx=\"941.144\" cy=\"-306\" rx=\"75.2868\" ry=\"18\"/>\n",
       "<text text-anchor=\"middle\" x=\"941.144\" y=\"-302.3\" font-family=\"Times,serif\" font-size=\"14.00\">WE,CW,GW,FW</text>\n",
       "</g>\n",
       "<!-- WE,CW,GB,FB -->\n",
       "<g id=\"node16\" class=\"node\"><title>WE,CW,GB,FB</title>\n",
       "<ellipse fill=\"none\" stroke=\"black\" cx=\"703.144\" cy=\"-234\" rx=\"69.5877\" ry=\"18\"/>\n",
       "<text text-anchor=\"middle\" x=\"703.144\" y=\"-230.3\" font-family=\"Times,serif\" font-size=\"14.00\">WE,CW,GB,FB</text>\n",
       "</g>\n",
       "<!-- WE,CW,GW,FW&#45;&#45;WE,CW,GB,FB -->\n",
       "<g id=\"edge17\" class=\"edge\"><title>WE,CW,GW,FW&#45;&#45;WE,CW,GB,FB</title>\n",
       "<path fill=\"none\" stroke=\"black\" d=\"M895.536,-291.586C852.884,-279.041 789.594,-260.427 747.389,-248.013\"/>\n",
       "</g>\n",
       "<!-- WE,CB,GW,FB -->\n",
       "<g id=\"node17\" class=\"node\"><title>WE,CB,GW,FB</title>\n",
       "<ellipse fill=\"none\" stroke=\"black\" cx=\"1017.14\" cy=\"-234\" rx=\"69.5877\" ry=\"18\"/>\n",
       "<text text-anchor=\"middle\" x=\"1017.14\" y=\"-230.3\" font-family=\"Times,serif\" font-size=\"14.00\">WE,CB,GW,FB</text>\n",
       "</g>\n",
       "<!-- WE,CW,GW,FW&#45;&#45;WE,CB,GW,FB -->\n",
       "<g id=\"edge18\" class=\"edge\"><title>WE,CW,GW,FW&#45;&#45;WE,CB,GW,FB</title>\n",
       "<path fill=\"none\" stroke=\"black\" d=\"M959.155,-288.411C971.27,-277.252 987.174,-262.604 999.262,-251.47\"/>\n",
       "</g>\n",
       "<!-- WE,CW,GB,FB&#45;&#45;WE,CW,GE,FE -->\n",
       "<g id=\"edge19\" class=\"edge\"><title>WE,CW,GB,FB&#45;&#45;WE,CW,GE,FE</title>\n",
       "<path fill=\"none\" stroke=\"black\" d=\"M669.848,-218.155C643.205,-206.276 606.022,-189.697 579.391,-177.824\"/>\n",
       "</g>\n",
       "<!-- WE,CB,GW,FB&#45;&#45;WE,CE,GW,FB -->\n",
       "<g id=\"edge20\" class=\"edge\"><title>WE,CB,GW,FB&#45;&#45;WE,CE,GW,FB</title>\n",
       "<path fill=\"none\" stroke=\"black\" d=\"M1020.85,-215.697C1023.18,-204.846 1026.16,-190.917 1028.48,-180.104\"/>\n",
       "</g>\n",
       "<!-- WE,CB,GW,FB&#45;&#45;WE,CE,GW,FE -->\n",
       "<g id=\"edge21\" class=\"edge\"><title>WE,CB,GW,FB&#45;&#45;WE,CE,GW,FE</title>\n",
       "<path fill=\"none\" stroke=\"black\" d=\"M990.715,-217.237C977.472,-208.004 962.339,-195.176 953.144,-180 939.635,-157.704 935.647,-127.176 934.518,-108.291\"/>\n",
       "</g>\n",
       "<!-- WE,CE,GW,FW -->\n",
       "<g id=\"node18\" class=\"node\"><title>WE,CE,GW,FW</title>\n",
       "<ellipse fill=\"none\" stroke=\"black\" cx=\"1177.14\" cy=\"-234\" rx=\"72.2875\" ry=\"18\"/>\n",
       "<text text-anchor=\"middle\" x=\"1177.14\" y=\"-230.3\" font-family=\"Times,serif\" font-size=\"14.00\">WE,CE,GW,FW</text>\n",
       "</g>\n",
       "<!-- WE,CE,GW,FW&#45;&#45;WE,CE,GW,FB -->\n",
       "<g id=\"edge22\" class=\"edge\"><title>WE,CE,GW,FW&#45;&#45;WE,CE,GW,FB</title>\n",
       "<path fill=\"none\" stroke=\"black\" d=\"M1145.32,-217.638C1120.98,-205.887 1087.59,-189.768 1063.39,-178.085\"/>\n",
       "</g>\n",
       "<!-- WE,CE,GW,FW&#45;&#45;WE,CE,GB,FB -->\n",
       "<g id=\"edge23\" class=\"edge\"><title>WE,CE,GW,FW&#45;&#45;WE,CE,GB,FB</title>\n",
       "<path fill=\"none\" stroke=\"black\" d=\"M1170.75,-215.871C1160.56,-188.578 1140.76,-135.52 1130.56,-108.189\"/>\n",
       "</g>\n",
       "<!-- WE,CE,GE,FE -->\n",
       "<g id=\"node20\" class=\"node\"><title>WE,CE,GE,FE</title>\n",
       "<ellipse fill=\"none\" stroke=\"black\" cx=\"1124.14\" cy=\"-18\" rx=\"65.7887\" ry=\"18\"/>\n",
       "<text text-anchor=\"middle\" x=\"1124.14\" y=\"-14.3\" font-family=\"Times,serif\" font-size=\"14.00\">WE,CE,GE,FE</text>\n",
       "</g>\n",
       "<!-- WE,CE,GB,FB&#45;&#45;WE,CE,GE,FE -->\n",
       "<g id=\"edge26\" class=\"edge\"><title>WE,CE,GB,FB&#45;&#45;WE,CE,GE,FE</title>\n",
       "<path fill=\"none\" stroke=\"black\" d=\"M1124.14,-71.6966C1124.14,-60.8463 1124.14,-46.9167 1124.14,-36.1043\"/>\n",
       "</g>\n",
       "</g>\n",
       "</svg>\n"
      ],
      "text/plain": [
       "<graphviz.dot.Graph at 0x7f7880476630>"
      ]
     },
     "execution_count": 8,
     "metadata": {},
     "output_type": "execute_result"
    }
   ],
   "source": [
    "import graphviz\n",
    "\n",
    "d = graphviz.Graph(engine='dot')\n",
    "\n",
    "n = len(subsets)\n",
    "for i in range(n):\n",
    "    for j in range(i+1, n):\n",
    "        s1, s2 = subsets[i], subsets[j]\n",
    "\n",
    "        wolf_1 =   impl(WW in s1, WE not in s2) and impl(WE in s1, WW not in s2)\n",
    "        corn_1 =   impl(CW in s1, CE not in s2) and impl(CE in s1, CW not in s2)\n",
    "        goose_1 =  impl(GW in s1, GE not in s2) and impl(GE in s1, GW not in s2)\n",
    "        farmer_1 = impl(FW in s1, FE not in s2) and impl(FE in s1, FW not in s2)\n",
    "        \n",
    "        wolf_2 =  impl(FB in s1 and WB in s1, FB in s2 or (WE in s2 and FE in s2) or (WW in s2 and FW in s2))\n",
    "        corn_2 =  impl(FB in s1 and CB in s1, FB in s2 or (CE in s2 and FE in s2) or (CW in s2 and FW in s2))\n",
    "        goose_2 = impl(FB in s1 and GB in s1, FB in s2 or (GE in s2 and FE in s2) or (GW in s2 and FW in s2))\n",
    "        \n",
    "        wolf_3 =  impl((FE in s1 and WW in s1) or (FW in s1 and WE in s1), WB not in s2)\n",
    "        corn_3 =  impl((FE in s1 and CW in s1) or (FW in s1 and CE in s1), CB not in s2)\n",
    "        goose_3 = impl((FE in s1 and GW in s1) or (FW in s1 and GE in s1), GB not in s2)\n",
    "        \n",
    "        boat = impl((WB in s1 or CB in s1 or GB in s1), not(WB in s2 or CB in s2 or GB in s2)) \n",
    "        \n",
    "        if wolf_1 and corn_1 and goose_1 and farmer_1 and \\\n",
    "            wolf_2 and corn_2 and goose_2 and \\\n",
    "            wolf_3 and corn_3 and goose_3 and boat:\n",
    "            d.edge(','.join(s1), ','.join(s2))\n",
    "\n",
    "d.graph_attr['size'] = '9,15'\n",
    "d"
   ]
  }
 ],
 "metadata": {
  "kernelspec": {
   "display_name": "Python 3",
   "language": "python",
   "name": "python3"
  },
  "language_info": {
   "codemirror_mode": {
    "name": "ipython",
    "version": 3
   },
   "file_extension": ".py",
   "mimetype": "text/x-python",
   "name": "python",
   "nbconvert_exporter": "python",
   "pygments_lexer": "ipython3",
   "version": "3.5.2"
  }
 },
 "nbformat": 4,
 "nbformat_minor": 2
}
