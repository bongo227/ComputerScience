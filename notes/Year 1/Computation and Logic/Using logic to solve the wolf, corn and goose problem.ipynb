{
 "cells": [
  {
   "cell_type": "markdown",
   "metadata": {},
   "source": [
    "# Using logic to solve the wolf, corn and goose problem\n",
    "\n",
    "Given a wolf, corn, goose and farmer and three locations west, boat and east where the wolf cant be left with the corn and the corn cant be left with the goose. How can the farmer move every entity to from the west to the east if the boat can only hold the farmer and one other entity at a time.\n",
    "\n",
    "First we must come up with a notation to describe the entity and its position."
   ]
  },
  {
   "cell_type": "code",
   "execution_count": null,
   "metadata": {},
   "outputs": [],
   "source": [
    "WW, WB, WE = 'WW', 'WB', 'WE'\n",
    "CW, CB, CE = 'CW', 'CB', 'CE'\n",
    "GW, GB, GE = 'GW', 'GB', 'GE'\n",
    "FW, FB, FE = 'FW', 'FB', 'FE'\n",
    "states = [WW, WB, WE, CW, CB, CE, GW, GB, GE, FW, FB, FE]\n",
    "print(states)"
   ]
  },
  {
   "cell_type": "markdown",
   "metadata": {},
   "source": [
    "Here we use the first letter of the location and entity to represent the state, for example WW means the wolf is on the west.\n",
    "\n",
    "The number of subsets is $2^n$, where n is the size of the set, so for this problem their is $2^{12} = 4096$ subsets, which can be demonstrated bellow by finding all subsets."
   ]
  },
  {
   "cell_type": "code",
   "execution_count": null,
   "metadata": {},
   "outputs": [],
   "source": [
    "from itertools import combinations\n",
    "\n",
    "subsets=[]\n",
    "for i in range(len(states)+1):\n",
    "    subsets.extend(combinations(states, r=i))\n",
    "        \n",
    "print(len(subsets))"
   ]
  },
  {
   "cell_type": "markdown",
   "metadata": {},
   "source": [
    "Not all of these subsets are valid, for example each entity can only be at one place at a time. To represent that with logic we can use the following:\n",
    "$$(WW \\oplus WB \\oplus WE) \\land \\overline{WW \\land WB \\land WE}$$\n",
    "\n",
    "> Interestingly xoring a number of things will return true if an odd amount of them are true, this in this case we must ensure the case were the wolf is in all 3 locations is false, hence the and."
   ]
  },
  {
   "cell_type": "code",
   "execution_count": null,
   "metadata": {},
   "outputs": [],
   "source": [
    "wolf = lambda s: ((WW in s) ^ (WB in s) ^ (WE in s)) and not((WW in s) and (WB in s) and (WE in s))\n",
    "corn = lambda s: ((CW in s) ^ (CB in s) ^ (CE in s)) and not((CW in s) and (CB in s) and (CE in s))\n",
    "goose = lambda s: ((GW in s) ^ (GB in s) ^ (GE in s)) and not((GW in s) and (GB in s) and (GE in s))\n",
    "farmer = lambda s: ((FW in s) ^ (FB in s) ^ (FE in s)) and not((FW in s) and (FB in s) and (FE in s))\n",
    "\n",
    "for f in [wolf, corn, goose, farmer]:\n",
    "    subsets=list(filter(f, subsets))\n",
    "\n",
    "print(len(subsets))"
   ]
  },
  {
   "cell_type": "markdown",
   "metadata": {},
   "source": [
    "No we have reduced the number of states to 81. We know that this is correct since their are 4 entities which can be in 3 locations thus their are $3^4 = 81$ states.\n",
    "\n",
    "Again not all these states are legal, since the farmer must travel with another entity, the following must be true\n",
    "$$\n",
    "WB \\rightarrow FB \\\\\n",
    "CB \\rightarrow FB \\\\\n",
    "GB \\rightarrow FB\n",
    "$$"
   ]
  },
  {
   "cell_type": "code",
   "execution_count": null,
   "metadata": {},
   "outputs": [],
   "source": [
    "def impl(lhs, rhs):\n",
    "    return rhs if lhs else True\n",
    "\n",
    "wolf = lambda s: impl(WB in s, FB in s)\n",
    "corn = lambda s: impl(CB in s, FB in s)\n",
    "goose = lambda s: impl(GB in s, FB in s)\n",
    "\n",
    "for f in [wolf, corn, goose]:\n",
    "    subsets=list(filter(f, subsets))\n",
    "\n",
    "print(len(list(subsets)))"
   ]
  },
  {
   "cell_type": "markdown",
   "metadata": {},
   "source": [
    "The farmer can only take one other entity at a time, thus:\n",
    "$$\\overline{WB \\land CB} \\land \\overline{CB \\land GB} \\land \\overline{GB \\land WB}$$"
   ]
  },
  {
   "cell_type": "code",
   "execution_count": null,
   "metadata": {},
   "outputs": [],
   "source": [
    "valid_boat = lambda s: not((WB in s) and (CB in s)) and \\\n",
    "                       not((CB in s) and (GB in s)) and \\\n",
    "                       not((GB in s) and (WB in s))\n",
    "        \n",
    "subsets=list(filter(valid_boat, subsets))\n",
    "print(len(list(subsets)))"
   ]
  },
  {
   "cell_type": "markdown",
   "metadata": {},
   "source": [
    "All that is left now is to remove all the unsafe states\n",
    "\n",
    "__The Wolf cant be left with corn__, thus if the wolf and corn are in the same location the farmer must also be at that locations:\n",
    "$$\n",
    "WW \\land GW \\rightarrow FW \\\\\n",
    "WE \\land GE \\rightarrow FE\n",
    "$$\n",
    "\n",
    "Similarly, __the corn cant be left with goose__, thus if the goose and corn are in the same location the farmer is also their:\n",
    "$$\n",
    "CW \\land GW \\rightarrow FW \\\\ \n",
    "CE \\land GE \\rightarrow FE\n",
    "$$"
   ]
  },
  {
   "cell_type": "code",
   "execution_count": null,
   "metadata": {},
   "outputs": [],
   "source": [
    "wolf_corn_west = lambda s: FW in s if ((WW in s) and (GW in s)) else True\n",
    "wolf_corn_east = lambda s: FE in s if ((WE in s) and (GE in s)) else True\n",
    "corn_goose_west = lambda s: FW in s if ((CW in s) and (GW in s)) else True\n",
    "corn_goose_east = lambda s: FE in s if ((CE in s) and (GE in s)) else True\n",
    "\n",
    "subsets=list(filter(wolf_corn_west, subsets))\n",
    "subsets=list(filter(wolf_corn_east, subsets))\n",
    "subsets=list(filter(corn_goose_west, subsets))\n",
    "subsets=list(filter(corn_goose_east, subsets))\n",
    "\n",
    "print(len(subsets))"
   ]
  },
  {
   "cell_type": "markdown",
   "metadata": {},
   "source": [
    "Finally we are left with just 20 states that are legal and safe. The 20 states are as follows:"
   ]
  },
  {
   "cell_type": "code",
   "execution_count": null,
   "metadata": {},
   "outputs": [],
   "source": [
    "for s in subsets:\n",
    "    print(', '.join(s))"
   ]
  },
  {
   "cell_type": "markdown",
   "metadata": {},
   "source": [
    "Even though we have found all the safe states, we still cant answer questions such as what is the minimum number of steps required to cross the river. To do that we will need to transform the states into a graph where the edges would represent valid transitions from one state to another.\n",
    "\n",
    "In order to form this graph we must start by defining what a valid transition is. For example if an entity was on the west, in the next state it cant be in the east and visa versa.\n",
    "$$\n",
    "WW' \\rightarrow \\overline{WE'} \\\\\n",
    "CW' \\rightarrow \\overline{CE'} \\\\\n",
    "GW' \\rightarrow \\overline{GE'} \\\\\n",
    "FW' \\rightarrow \\overline{FE'}\n",
    "$$\n",
    "(repeated for the oppisite direction)\n",
    "\n",
    "If the farmer is in the boat with another entity, the farmer must have been in the boat or they were both on the same side.\n",
    "$$\n",
    "FB \\lor WB \\rightarrow FB \\lor (WE \\land FE) \\lor (WW \\land FW) \\\\\n",
    "CB \\lor CB \\rightarrow FB \\lor (CE \\land FE) \\lor (CW \\land FW) \\\\\n",
    "GB \\lor GB \\rightarrow FB \\lor (GE \\land FE) \\lor (GW \\land FW)\n",
    "$$\n",
    "\n",
    "If the farmer and another entity are on opposite sides, they both cant end up in the boat.\n",
    "$$\n",
    "(FE \\land WW) \\lor (FW \\land WE) \\rightarrow \\overline{WB'} \\\\\n",
    "(FE \\land CW) \\lor (FW \\land CE) \\rightarrow \\overline{CB'} \\\\\n",
    "(FE \\land GW) \\lor (FW \\land GE) \\rightarrow \\overline{GB'}\n",
    "$$\n",
    "\n",
    "Entities (except from the farmer) cannot stay in the boat. \n",
    "$$\n",
    "\\overline{WB' \\lor CB' \\lor GB'} \\rightarrow WB \\lor CB \\lor GB\n",
    "$$"
   ]
  },
  {
   "cell_type": "code",
   "execution_count": null,
   "metadata": {},
   "outputs": [],
   "source": [
    "import graphviz\n",
    "\n",
    "d = graphviz.Graph(engine='dot')\n",
    "\n",
    "n = len(subsets)\n",
    "for i in range(n):\n",
    "    for j in range(i+1, n):\n",
    "        s1, s2 = subsets[i], subsets[j]\n",
    "\n",
    "        wolf_1 =   impl(WW in s1, WE not in s2) and impl(WE in s1, WW not in s2)\n",
    "        corn_1 =   impl(CW in s1, CE not in s2) and impl(CE in s1, CW not in s2)\n",
    "        goose_1 =  impl(GW in s1, GE not in s2) and impl(GE in s1, GW not in s2)\n",
    "        farmer_1 = impl(FW in s1, FE not in s2) and impl(FE in s1, FW not in s2)\n",
    "        \n",
    "        wolf_2 =  impl(FB in s1 and WB in s1, FB in s2 or (WE in s2 and FE in s2) or (WW in s2 and FW in s2))\n",
    "        corn_2 =  impl(FB in s1 and CB in s1, FB in s2 or (CE in s2 and FE in s2) or (CW in s2 and FW in s2))\n",
    "        goose_2 = impl(FB in s1 and GB in s1, FB in s2 or (GE in s2 and FE in s2) or (GW in s2 and FW in s2))\n",
    "        \n",
    "        wolf_3 =  impl((FE in s1 and WW in s1) or (FW in s1 and WE in s1), WB not in s2)\n",
    "        corn_3 =  impl((FE in s1 and CW in s1) or (FW in s1 and CE in s1), CB not in s2)\n",
    "        goose_3 = impl((FE in s1 and GW in s1) or (FW in s1 and GE in s1), GB not in s2)\n",
    "        \n",
    "        boat = impl((WB in s1 or CB in s1 or GB in s1), not(WB in s2 or CB in s2 or GB in s2)) \n",
    "        \n",
    "        if wolf_1 and corn_1 and goose_1 and farmer_1 and \\\n",
    "            wolf_2 and corn_2 and goose_2 and \\\n",
    "            wolf_3 and corn_3 and goose_3 and boat:\n",
    "            d.edge(','.join(s1), ','.join(s2))\n",
    "\n",
    "d.graph_attr['size'] = '9,15'\n",
    "d"
   ]
  }
 ],
 "metadata": {
  "language_info": {
   "name": "python",
   "pygments_lexer": "ipython3"
  }
 },
 "nbformat": 4,
 "nbformat_minor": 2
}
