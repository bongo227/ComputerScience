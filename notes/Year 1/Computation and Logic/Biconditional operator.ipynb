{
 "cells": [
  {
   "cell_type": "markdown",
   "metadata": {},
   "source": [
    "# Biconditional operator\n",
    "\n",
    "The $\\leftrightarrow$ operator is like the $\\rightarrow$ operator, except it works both ways:\n",
    "$$\n",
    "p \\leftrightarrow q = (p \\rightarrow q) \\land (q \\rightarrow p)\n",
    "$$\n",
    "\n",
    "This produces the following truth table:\n",
    "\n",
    "| $p$ | $q$ | <div style=\"width: 40px\">$p \\leftrightarrow q$</div> |\n",
    "| :--- | :--- | :--------- |\n",
    "| $\\top$ | $\\top$ | $\\top$ |\n",
    "| $\\top$ | $\\bot$ | $\\bot$ |\n",
    "| $\\bot$ | $\\top$ | $\\bot$ |\n",
    "| $\\bot$ | $\\bot$ | $\\top$ |\n",
    "\n",
    "We see here that the expression $p \\leftrightarrow q$ is only true if both $p$ and $q$ have the same value, either $\\top$ or $\\bot$. You could consider this the logical equaivilent of the equality operator.\n",
    "\n",
    "Consider the following statements\n",
    "\n",
    "> __p:__ The triangle has two equal sides\n",
    "\n",
    "> __q:__ The triangle has two equal angles\n",
    " \n",
    "- if the triangle has two equal sides it must also have two equal angles\n",
    "- if the triangle does not have two equal sides, it canoot have two equal angles\n",
    "\n",
    "Therefore $p \\leftrightarrow q$ is true."
   ]
  }
 ],
 "metadata": {
  "language_info": {
   "name": "python",
   "pygments_lexer": "ipython3"
  }
 },
 "nbformat": 4,
 "nbformat_minor": 2
}
