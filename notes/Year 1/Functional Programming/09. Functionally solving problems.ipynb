{
 "cells": [
  {
   "cell_type": "code",
   "execution_count": null,
   "metadata": {
    "collapsed": true
   },
   "outputs": [],
   "source": [
    "-- Reverse polish calculator\n",
    "\n",
    "rpn :: (Num a, Read a) => String -> a\n",
    "rpn = head . foldl f [] . words\n",
    "    where f (x:y:ys) \"*\" = (y*x):ys\n",
    "          f (x:y:ys) \"+\" = (y+x):ys\n",
    "          f (x:y:ys) \"-\" = (y-x):ys\n",
    "          f ys num = (read num):ys\n",
    "\n",
    "rpn \"10 4 3 + 2 * -\""
   ]
  }
 ],
 "metadata": {
  "kernelspec": {
   "display_name": "Haskell",
   "language": "haskell",
   "name": "haskell"
  },
  "language_info": {
   "codemirror_mode": "ihaskell",
   "file_extension": ".hs",
   "name": "haskell",
   "version": "8.0.2"
  }
 },
 "nbformat": 4,
 "nbformat_minor": 2
}
