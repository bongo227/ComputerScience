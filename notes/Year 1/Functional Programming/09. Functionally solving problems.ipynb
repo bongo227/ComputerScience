{
 "cells": [
  {
   "cell_type": "code",
   "execution_count": null,
   "metadata": {},
   "outputs": [],
   "source": [
    "-- Reverse polish calculator\n",
    "\n",
    "rpn :: (Num a, Read a) => String -> a\n",
    "rpn = head . foldl f [] . words\n",
    "    where f (x:y:ys) \"*\" = (y*x):ys\n",
    "          f (x:y:ys) \"+\" = (y+x):ys\n",
    "          f (x:y:ys) \"-\" = (y-x):ys\n",
    "          f ys num = (read num):ys\n",
    "\n",
    "rpn \"10 4 3 + 2 * -\""
   ]
  }
 ],
 "metadata": {
  "language_info": {
   "name": "python",
   "pygments_lexer": "ipython3"
  }
 },
 "nbformat": 4,
 "nbformat_minor": 2
}
