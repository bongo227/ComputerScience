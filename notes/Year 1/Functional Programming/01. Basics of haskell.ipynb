{
 "cells": [
  {
   "cell_type": "code",
   "execution_count": 1,
   "metadata": {},
   "outputs": [
    {
     "data": {
      "text/plain": [
       "10"
      ]
     },
     "metadata": {},
     "output_type": "display_data"
    },
    {
     "data": {
      "text/plain": [
       "9"
      ]
     },
     "metadata": {},
     "output_type": "display_data"
    },
    {
     "data": {
      "text/plain": [
       "5"
      ]
     },
     "metadata": {},
     "output_type": "display_data"
    },
    {
     "data": {
      "text/plain": [
       "20"
      ]
     },
     "metadata": {},
     "output_type": "display_data"
    },
    {
     "data": {
      "text/plain": [
       "22.0"
      ]
     },
     "metadata": {},
     "output_type": "display_data"
    }
   ],
   "source": [
    "-- Calling a function\n",
    "min 10 100\n",
    "min (10 + 1) 9\n",
    "min (max 5 2) 10\n",
    "\n",
    "-- Creating a function\n",
    "double x = x + x\n",
    "double 10\n",
    "double (double 5.5)"
   ]
  },
  {
   "cell_type": "code",
   "execution_count": null,
   "metadata": {
    "collapsed": true
   },
   "outputs": [],
   "source": [
    "-- If statement\n",
    "absolute x = if x < 0\n",
    "                then -x\n",
    "                else x\n",
    "    \n",
    "absolute 5\n",
    "absolute (-5)"
   ]
  },
  {
   "cell_type": "code",
   "execution_count": null,
   "metadata": {
    "collapsed": true
   },
   "outputs": [],
   "source": [
    "-- Variables\n",
    "let a = 10\n",
    "a + 4"
   ]
  },
  {
   "cell_type": "code",
   "execution_count": null,
   "metadata": {
    "collapsed": true
   },
   "outputs": [],
   "source": [
    "-- Lists\n",
    "let b = [1, 2, 3]\n",
    "b\n",
    "\n",
    "-- Combining lists\n",
    "let c = [4, 5, 6]\n",
    "b ++ c\n",
    "\n",
    "-- Strings are sugar for char lists\n",
    "\"hello\" ++ \" \" ++ \"world\"\n",
    "\n",
    "-- Lists syntax are sugar for head:tail\n",
    "let d = 7:8:9:[]\n",
    "d\n",
    "\n",
    "-- Append to start of list (head: 6, tail: d)\n",
    "6:d\n",
    "\n",
    "-- Index element in list\n",
    "\"Ben\" !! 1\n",
    "\n",
    "-- List in list\n",
    "[[1, 2, 3], [2, 4, 8]]\n",
    "\n",
    "-- Compare lists (compares from head to tail)\n",
    "[1, 2, 3] > [3, 4, 5]\n",
    "[1, 4, 3] == [1, 4, 3]"
   ]
  },
  {
   "cell_type": "code",
   "execution_count": null,
   "metadata": {
    "collapsed": true
   },
   "outputs": [],
   "source": [
    "-- Head returns the head of the list\n",
    "head [1, 2, 3]\n",
    "\n",
    "-- Tail returns the tail of the list\n",
    "tail [1, 2, 3]\n",
    "\n",
    "-- last returns the last element\n",
    "last [1, 2, 3]\n",
    "\n",
    "-- init returns everything up to the last element\n",
    "init [1, 2, 3]"
   ]
  },
  {
   "cell_type": "code",
   "execution_count": null,
   "metadata": {
    "collapsed": true
   },
   "outputs": [],
   "source": [
    "-- Length returns the length of the list\n",
    "length [1, 2, 3]\n",
    "\n",
    "-- Null checks if the list is empty\n",
    "null [1, 2, 3]\n",
    "null []\n",
    "\n",
    "-- Reverse reverses the list\n",
    "reverse [1, 2, 3]\n",
    "\n",
    "-- Take returns n amount of elements from the start of the list\n",
    "take 2 [1, 2, 3]\n",
    "\n",
    "-- Drop returns all the elements after the nth element\n",
    "drop 2 [1, 2, 3]"
   ]
  },
  {
   "cell_type": "code",
   "execution_count": null,
   "metadata": {
    "collapsed": true
   },
   "outputs": [],
   "source": [
    "-- Maximum returns the largest element\n",
    "maximum [1, 2, 3]\n",
    "\n",
    "-- Minimum returns the smallest element\n",
    "minimum [1, 2, 3]\n",
    "\n",
    "-- Sum returns the sum of the elements\n",
    "sum [1, 2, 3]\n",
    "\n",
    "-- Product returns the product of the elements\n",
    "product [1, 2, 3]\n",
    "\n",
    "-- Elem returns true when the element is in the list\n",
    "elem 2 [1, 2, 3]"
   ]
  },
  {
   "cell_type": "code",
   "execution_count": null,
   "metadata": {
    "collapsed": true
   },
   "outputs": [],
   "source": [
    "-- Functions can be called in infix\n",
    "4 `elem` [1, 2, 3]"
   ]
  },
  {
   "cell_type": "code",
   "execution_count": null,
   "metadata": {
    "collapsed": true
   },
   "outputs": [],
   "source": [
    "-- Simple ranges\n",
    "[1..10]\n",
    "['a'..'e']\n",
    "['K'..'Z']\n",
    "\n",
    "-- Ranges can specify a step\n",
    "[2,1..10]\n",
    "[0.5, 1..5]\n",
    "\n",
    "-- Can be infinite\n",
    "take 10 [2,4..]"
   ]
  },
  {
   "cell_type": "code",
   "execution_count": null,
   "metadata": {
    "collapsed": true
   },
   "outputs": [],
   "source": [
    "-- Cycle takes a list and returns an infinite cycle of that list\n",
    "take 10 (cycle [1, 2, 3])\n",
    "\n",
    "-- Repeat takes an element and returns an infinite list of that element\n",
    "take 10 (repeat 5)\n",
    "\n",
    "-- Replicate takes an element and produces a list of that element of a specific length\n",
    "replicate 4 3"
   ]
  },
  {
   "cell_type": "code",
   "execution_count": null,
   "metadata": {
    "collapsed": true
   },
   "outputs": [],
   "source": [
    "-- List comprehensions are simular to mathmatics\n",
    "[x*2 | x<-[1..10]]\n",
    "\n",
    "-- Can have multiple conditions\n",
    "[x*2 | x <- [1..10], x*2 >= 10]\n",
    "\n",
    "-- If statements can also be used\n",
    "[if x < 10 then \"small\" else \"big\" | x <- [5..15]]\n",
    "\n",
    "-- Can define mulitple identifiers\n",
    "let objects = [\"bus\", \"ball\", \"bell\"]\n",
    "let adjectives = [\"small\", \"large\"]\n",
    "[adj ++ \" \" ++ obj | obj <- objects, adj<-adjectives]"
   ]
  },
  {
   "cell_type": "code",
   "execution_count": null,
   "metadata": {
    "collapsed": true
   },
   "outputs": [],
   "source": [
    "-- Tuples\n",
    "let b = (1, \"foo\")\n",
    "b\n",
    "\n",
    "-- fst returns the first component of a pair\n",
    "fst b\n",
    "\n",
    "-- snd returns the second component of a pair\n",
    "snd b\n",
    "\n",
    "-- zip produces a list of pairs\n",
    "zip [1, 3, 5, 7] [2, 4, 6, 8]\n",
    "zip [1..] [\"foo\", \"bar\", \"baz\"]"
   ]
  },
  {
   "cell_type": "code",
   "execution_count": null,
   "metadata": {
    "collapsed": true
   },
   "outputs": [],
   "source": [
    "-- rightTriangles defines the set of all right angle triangles\n",
    "-- if c, b and a were all infinite this could not work since haskall would have a\n",
    "let rightTriangles = [(a, b, c) | c<-[1..], b<-[1..c], a<-[1..b], a^2+b^2==c^2]\n",
    "\n",
    "-- now we can print any number of right angle triangles\n",
    "take 10 rightTriangles"
   ]
  }
 ],
 "metadata": {
  "kernelspec": {
   "display_name": "Haskell",
   "language": "haskell",
   "name": "haskell"
  },
  "language_info": {
   "codemirror_mode": "ihaskell",
   "file_extension": ".hs",
   "name": "haskell",
   "version": "8.0.2"
  }
 },
 "nbformat": 4,
 "nbformat_minor": 2
}
