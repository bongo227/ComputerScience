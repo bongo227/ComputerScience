{
 "cells": [
  {
   "cell_type": "code",
   "execution_count": null,
   "metadata": {},
   "outputs": [],
   "source": [
    "-- :t returns the type of an expression\n",
    ":t 'a'\n",
    ":t True\n",
    ":t (\"foo\", False, 'l')"
   ]
  },
  {
   "cell_type": "code",
   "execution_count": null,
   "metadata": {},
   "outputs": [],
   "source": [
    "-- Function types can be explicitly defined\n",
    "addThree :: Int -> Int -> Int -> Int\n",
    "addThree a b c = a + b + c\n",
    "\n",
    "addThree 10 2 4"
   ]
  },
  {
   "cell_type": "code",
   "execution_count": null,
   "metadata": {},
   "outputs": [],
   "source": [
    "-- Int is 32/64 bit integer\n",
    "-- Integer is a big number\n",
    "product [1..50]\n",
    "-- Float is 32 bit float\n",
    "-- Double is 64 bit float\n",
    "-- Bool is a boolean\n",
    "-- Char is a character"
   ]
  },
  {
   "cell_type": "code",
   "execution_count": null,
   "metadata": {},
   "outputs": [],
   "source": [
    "-- :t can be used on functions aswell\n",
    ":t addThree\n",
    "-- head is a polymorphic function\n",
    "-- a is a type variable with no constraints\n",
    ":t head"
   ]
  },
  {
   "cell_type": "code",
   "execution_count": null,
   "metadata": {},
   "outputs": [],
   "source": [
    "-- Typeclasses are intefaces which define some behaviours\n",
    "-- Eq type class defines the == and /= operator for two types\n",
    ":t (==)\n",
    "\n",
    "-- Ord defines >, <, <=, >= operators\n",
    ":t (<)\n",
    "\n",
    "-- Show allows expressions to be printed\n",
    ":t show\n",
    "\n",
    "-- Read allows a string to be parsed into a typed expression\n",
    "read \"5.6\" + 3.4\n",
    ":t read"
   ]
  },
  {
   "cell_type": "code",
   "execution_count": null,
   "metadata": {},
   "outputs": [],
   "source": [
    "-- Explicit type annotations can be used to when read cant infer the type\n",
    "read \"[1,2,3]\" :: [Int]\n",
    "read \"100\" :: Float"
   ]
  },
  {
   "cell_type": "code",
   "execution_count": null,
   "metadata": {},
   "outputs": [],
   "source": [
    "-- Enums are ordered types\n",
    "-- Since they are ordered they can be used in ranges\n",
    "['a'..'d']\n",
    "-- And have defined successors and predessors\n",
    "succ 'F'\n",
    "pred 'B'"
   ]
  },
  {
   "cell_type": "code",
   "execution_count": null,
   "metadata": {},
   "outputs": [],
   "source": [
    "-- Bounded is a typeclass for types that have and upper and lower bounds such as ints\n",
    "\n",
    "-- minBound and maxBound are polymorphic constants\n",
    "-- they can be used to find the bounds of a type\n",
    "-- brackets only required for IHaskall\n",
    "(maxBound :: Int)\n",
    "(minBound :: (Int, Bool, Char))"
   ]
  },
  {
   "cell_type": "code",
   "execution_count": null,
   "metadata": {},
   "outputs": [],
   "source": [
    "-- Num is a numberic typeclass for anything that acts like numbers\n",
    "-- includes: Int, Integer, Float ...\n",
    ":t (*)\n",
    "\n",
    "-- Integral is an integer typeclass for Int and Integer\n",
    "\n",
    "-- Floating is a floating point typeclass for Float and Double\n",
    "\n",
    "-- fromIntegral converts an integer to a more general number\n",
    "-- this allows us to add ints to floats for example\n",
    "fromIntegral (length [1, 2, 3]) + 1.2"
   ]
  }
 ],
 "metadata": {
  "language_info": {
   "name": "python",
   "pygments_lexer": "ipython3"
  }
 },
 "nbformat": 4,
 "nbformat_minor": 2
}
