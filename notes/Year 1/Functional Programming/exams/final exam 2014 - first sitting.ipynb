{
 "cells": [
  {
   "cell_type": "code",
   "execution_count": null,
   "metadata": {},
   "outputs": [],
   "source": [
    "import Test.QuickCheck( quickCheck, \n",
    "                        Arbitrary( arbitrary ),\n",
    "                        oneof, elements, sized, (==>)  )\n",
    "import Control.Monad -- defines liftM, liftM2, liftM3, used below\n",
    "import Data.Char"
   ]
  },
  {
   "cell_type": "code",
   "execution_count": null,
   "metadata": {},
   "outputs": [],
   "source": [
    "f :: [Int] -> Bool\n",
    "f (x:xs) = and [b `mod` a == 0 | (a, b) <- zip (x:xs) xs]\n",
    "\n",
    "prop_f = \n",
    "    f [1,1,-2,6,18,-18,180] == True &&\n",
    "    f [17] == True &&\n",
    "    f [1,1,2,3,6,18] == False &&\n",
    "    f [1,2,6,3,9] == False\n",
    "    \n",
    "quickCheck prop_f"
   ]
  },
  {
   "cell_type": "code",
   "execution_count": null,
   "metadata": {},
   "outputs": [],
   "source": [
    "g :: [Int] -> Bool\n",
    "g [x] = True\n",
    "g (x:xs) | (head xs) `mod` x == 0 = g xs\n",
    "         | otherwise = False\n",
    "\n",
    "prop_g = \n",
    "    g [1,1,-2,6,18,-18,180] == True &&\n",
    "    g [17] == True &&\n",
    "    g [1,1,2,3,6,18] == False &&\n",
    "    g [1,2,6,3,9] == False\n",
    "    \n",
    "quickCheck prop_g"
   ]
  },
  {
   "cell_type": "code",
   "execution_count": null,
   "metadata": {},
   "outputs": [],
   "source": [
    "p :: [Int] -> Int\n",
    "p xs = product [x^2 | x <- xs, x < 0]\n",
    "\n",
    "prop_p = \n",
    "    p [13] == 1 &&\n",
    "    p [] == 1 &&\n",
    "    p [-3,3,1,-3,2,-1] == 81 &&\n",
    "    p [2,6,-3,0,3,-7,2] == 441 &&\n",
    "    p [4,-2,-1,-3] == 36\n",
    "    \n",
    "quickCheck prop_p"
   ]
  },
  {
   "cell_type": "code",
   "execution_count": null,
   "metadata": {},
   "outputs": [],
   "source": [
    "q :: [Int] -> Int\n",
    "q [] = 1\n",
    "q (x:xs) | x < 0 = x^2 * q xs\n",
    "         | otherwise = q xs\n",
    "         \n",
    "prop_q =\n",
    "    q [13] == 1 &&\n",
    "    q [] == 1 &&\n",
    "    q [-3,3,1,-3,2,-1] == 81 &&\n",
    "    q [2,6,-3,0,3,-7,2] == 441 &&\n",
    "    q [4,-2,-1,-3] == 36\n",
    "\n",
    "quickCheck prop_q"
   ]
  },
  {
   "cell_type": "code",
   "execution_count": null,
   "metadata": {},
   "outputs": [],
   "source": [
    "r :: [Int] -> Int\n",
    "r = foldr (\\x acc -> if x < 0 then acc*x^2 else acc) 1\n",
    "\n",
    "prop_r =\n",
    "    r [13] == 1 &&\n",
    "    r [] == 1 &&\n",
    "    r [-3,3,1,-3,2,-1] == 81 &&\n",
    "    r [2,6,-3,0,3,-7,2] == 441 &&\n",
    "    r [4,-2,-1,-3] == 36\n",
    "\n",
    "quickCheck prop_r"
   ]
  },
  {
   "cell_type": "code",
   "execution_count": null,
   "metadata": {},
   "outputs": [],
   "source": [
    "data Expr = X\n",
    "          | Const Int\n",
    "          | Expr :+: Expr\n",
    "          | Expr :-: Expr\n",
    "          | Expr :*: Expr\n",
    "          | Expr :/: Expr\n",
    "          | IfZero Expr Expr Expr\n",
    "          deriving (Eq, Ord)\n",
    "\n",
    "-- turns an Expr into a string approximating mathematical notation\n",
    "\n",
    "showExpr :: Expr -> String\n",
    "showExpr X          =  \"X\"\n",
    "showExpr (Const n)  =  show n\n",
    "showExpr (p :+: q)  =  \"(\" ++ showExpr p ++ \"+\" ++ showExpr q ++ \")\"\n",
    "showExpr (p :-: q)  =  \"(\" ++ showExpr p ++ \"-\" ++ showExpr q ++ \")\"\n",
    "showExpr (p :*: q)  =  \"(\" ++ showExpr p ++ \"*\" ++ showExpr q ++ \")\"\n",
    "showExpr (p :/: q)  =  \"(\" ++ showExpr p ++ \"/\" ++ showExpr q ++ \")\"\n",
    "showExpr (IfZero p q r)  = \"(if \" ++ showExpr p ++ \"=0 then \"\n",
    "                                  ++ showExpr q ++ \" else \"\n",
    "                                  ++ showExpr r ++ \")\"\n",
    "\n",
    "-- For QuickCheck\n",
    "\n",
    "instance Show Expr where\n",
    "    show  =  showExpr\n",
    "\n",
    "instance Arbitrary Expr where\n",
    "    arbitrary  =  sized expr\n",
    "        where\n",
    "          expr n | n <= 0     =  oneof [elements [X]]\n",
    "                 | otherwise  =  oneof [ liftM Const arbitrary\n",
    "                                       , liftM2 (:+:) subform2 subform2\n",
    "                                       , liftM2 (:-:) subform2 subform2\n",
    "                                       , liftM2 (:*:) subform2 subform2\n",
    "                                       , liftM2 (:/:) subform2 subform2\n",
    "                                       , liftM3 (IfZero) subform3 subform3 subform3\n",
    "                                       ]\n",
    "                 where\n",
    "                   subform2  =  expr (n `div` 2)\n",
    "                   subform3  =  expr (n `div` 3)"
   ]
  },
  {
   "cell_type": "code",
   "execution_count": null,
   "metadata": {},
   "outputs": [],
   "source": [
    "eval :: Expr -> Int -> Int\n",
    "eval X x = x\n",
    "eval (Const a) _ = a\n",
    "eval (e1 :+: e2) x = (eval e1 x) + (eval e2 x)\n",
    "eval (e1 :-: e2) x = (eval e1 x) - (eval e2 x)\n",
    "eval (e1 :*: e2) x = (eval e1 x) * (eval e2 x)\n",
    "eval (e1 :/: e2) x = (eval e1 x) `div` (eval e2 x)\n",
    "eval (IfZero p q r) x = if (eval p x) == 0 then (eval q x) else (eval r x)\n",
    "\n",
    "prop_eval =\n",
    "    eval (X :+: (X :*: Const 2)) 3 == 9 &&\n",
    "    eval (X :/: Const 3) 7 == 2 &&\n",
    "    eval (IfZero (X :-: Const 3) (X:/:X) (Const 7)) 3 == 1 &&\n",
    "    eval (IfZero (X :-: Const 3) (X:/:X) (Const 7)) 4 == 7 &&\n",
    "    eval (Const 15 :-: (Const 7 :/: (X :-: Const 1))) 0 == 22\n",
    "    \n",
    "quickCheck prop_eval"
   ]
  },
  {
   "cell_type": "code",
   "execution_count": null,
   "metadata": {},
   "outputs": [],
   "source": [
    "protect :: Expr -> Expr\n",
    "protect (e1 :+: e2) = (protect e1) :+: (protect e2) \n",
    "protect (e1 :-: e2) = (protect e1) :-: (protect e2)\n",
    "protect (e1 :*: e2) = (protect e1) :*: (protect e2)\n",
    "protect (e1 :/: e2) = IfZero (protect e2) (Const maxBound) ((protect e1) :/: (protect e2))\n",
    "protect (IfZero p q r) = IfZero (protect p) (protect q) (protect r)\n",
    "protect e = e\n",
    "\n",
    "prop_protect = \n",
    "    eval (protect (X :+: (X :*: Const 2))) 3 == 9 &&\n",
    "    eval (protect (X :/: Const 3)) 7 == 2 &&\n",
    "    eval (protect (IfZero (X :-: Const 3) (X:/:X) (Const 7))) 3 == 1 &&\n",
    "    eval (protect (IfZero (X :-: Const 3) (X:/:X) (Const 7))) 4 == 7 &&\n",
    "    eval (protect (Const 15 :-: (Const 7 :/: (X :-: Const 1)))) 0 == 22 &&\n",
    "    eval (protect (Const 15 :-: (Const 7 :/: (X :-: Const 1)))) 1 == (15-maxBound) &&\n",
    "    eval (protect (X :/: (X :-: X))) 2 == maxBound\n",
    "    \n",
    "quickCheck prop_protect"
   ]
  }
 ],
 "metadata": {
  "language_info": {
   "name": "python",
   "pygments_lexer": "ipython3"
  }
 },
 "nbformat": 4,
 "nbformat_minor": 2
}
