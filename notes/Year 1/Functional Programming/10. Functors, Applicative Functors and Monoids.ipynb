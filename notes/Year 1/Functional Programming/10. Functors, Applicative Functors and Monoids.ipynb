{
 "cells": [
  {
   "cell_type": "code",
   "execution_count": null,
   "metadata": {
    "collapsed": true
   },
   "outputs": [],
   "source": [
    "-- IO actions are also a instance of Functor\n",
    "\n",
    "-- instance Functor IO where  \n",
    "--     fmap f action = do  \n",
    "--         result <- action  \n",
    "--         return (f result)\n",
    "\n",
    "-- we get the value out of the io action by binding it to result\n",
    "-- then put it back with return after doing f on result\n",
    "\n",
    "do\n",
    "    reversed <- fmap reverse $ readFile \"foo.txt\"\n",
    "    putStrLn reversed"
   ]
  },
  {
   "cell_type": "code",
   "execution_count": null,
   "metadata": {
    "collapsed": true
   },
   "outputs": [],
   "source": [
    "-- Another instace of Functor is (->) r\n",
    "-- (->) r looks confusing but its the same as (+) 2 3. \n",
    "-- We prefix the binary operator which in this case is the \"function arrow\"\n",
    "-- This allows use to fmap over functions\n",
    "-- its implmentation looks somthing like this:\n",
    "\n",
    "-- instance Functor ((->) r) where  \n",
    "--     fmap f g = (\\x -> f (g x))  \n",
    "\n",
    "-- fmaps type is: fmap :: (a -> b) -> f a -> f b\n",
    "-- now if we replace the f's with are type parameter\n",
    "-- fmaps type is: fmap :: (a -> b) -> ((->) r a) -> ((->) r b)\n",
    "-- and if we make those prefix operators infix\n",
    "-- fmaps type is: fmap :: (a -> b) -> (r -> a) -> (r -> b)\n",
    "\n",
    "-- so fmap'ing over functions is actually just function composition\n",
    "(*3) . (+100) $ 10\n",
    "(*3) `fmap` (+100) $ 10\n",
    "\n",
    "-- Since functor takes a single type parameter we "
   ]
  },
  {
   "cell_type": "code",
   "execution_count": null,
   "metadata": {
    "collapsed": true
   },
   "outputs": [],
   "source": [
    "-- Functors have some laws which should be followed\n",
    "\n",
    "-- if maping the identity function (such as \\x -> x) \n",
    "-- the result should be the same as the original Functir\n",
    "\n",
    "-- if maping a function composition the fmap (f . g)\n",
    "-- the result should be the same as maping over one function then the next fmap f (fmap g)"
   ]
  },
  {
   "cell_type": "code",
   "execution_count": null,
   "metadata": {
    "collapsed": true
   },
   "outputs": [],
   "source": [
    "import Control.Applicative\n",
    "-- an applicative functor is defined as so:\n",
    "\n",
    "-- class (Functor f) => Applicative f where  \n",
    "--     pure :: a -> f a  \n",
    "--     (<*>) :: f (a -> b) -> f a -> f b  \n",
    "\n",
    "-- pure takes a value and returns a minimal context that returns that value\n",
    "-- <*> is like fmap however it takes a functor and applies the function 'inside' it\n",
    "-- to the other functor\n",
    "\n",
    "-- heres how its implemented for the maybe type\n",
    "\n",
    "-- instance Applicative Maybe where  \n",
    "--     pure = Just  \n",
    "--     Nothing <*> _ = Nothing  \n",
    "--     (Just f) <*> something = fmap f something\n",
    "\n",
    "-- pure = Just is the same as pure x = Just x, it wraps a value in the maybe type\n",
    "-- their is no function in nothing, so return nothing\n",
    "-- their can be a function in a just type, so ew extract it and apply it to the functor somthing\n",
    "\n",
    "Just (+3) <*> Just 9\n",
    "pure (+3) <*> Just 10"
   ]
  },
  {
   "cell_type": "code",
   "execution_count": null,
   "metadata": {
    "collapsed": true
   },
   "outputs": [],
   "source": [
    "-- Control.Applicative also exports a <$> operator\n",
    "-- which is just fmap, which allows us to do things like:\n",
    "\n",
    "(++) <$> Just \"Alan \" <*> Just \"Turing\"\n",
    "\n",
    "-- the first fmap turns (Just \"Ben \") into (Just \"Ben ++\")\n",
    "-- the second applicative fmap turns (Just \"Ben ++\" into Just \"Ben Sheffield\")\n",
    "\n",
    "(*) <$> [1, 2, 3] <*> [4, 5, 6]"
   ]
  },
  {
   "cell_type": "code",
   "execution_count": null,
   "metadata": {
    "collapsed": true
   },
   "outputs": [],
   "source": [
    "-- What if instead of applying the function to all combinations of elements\n",
    "-- instead we required it to be applied to each element in the same position\n",
    "-- i.e. \n",
    "\n",
    "-- (*) <$> [1, 2, 3] <*> [4, 5, 6] = [4, 10, 18]\n",
    "\n",
    "-- We can use ZipLists for this, they wrap a list so that we can do just this\n",
    "let foo = (*) <$> ZipList [1, 2, 3] <*> ZipList [4, 5, 6]\n",
    "foo\n",
    "\n",
    "-- If we want to extract the list we need to call getZipList\n",
    "getZipList foo"
   ]
  },
  {
   "cell_type": "code",
   "execution_count": null,
   "metadata": {
    "collapsed": true
   },
   "outputs": [],
   "source": [
    "-- newtype is the prefered way to create a wrapper type\n",
    "-- data will require unwrapping/wrapping at runtime whereas\n",
    "-- haskell doesnt actually box are type if we use newtype.\n",
    "\n",
    "-- an example would be ziplist\n",
    "\n",
    "-- newtype ZipList a = ZipList { getZipList :: [a] }\n",
    "\n",
    "-- this would be exactally the same if we replaced newtype with data\n",
    "-- (except for runtime performace)\n"
   ]
  },
  {
   "cell_type": "code",
   "execution_count": null,
   "metadata": {
    "collapsed": true
   },
   "outputs": [],
   "source": [
    "-- * is assosiative and has the identity of 1\n",
    "4 * (5 * 6)\n",
    "(4 * 5) * 6\n",
    "4 * 1\n",
    "\n",
    "-- ++ is also assosiative and has the identity []\n",
    "[1,2,3] ++ ([4,5]++[6,7])\n",
    "([1,2,3] ++ [4,5])++[6,7]\n",
    "[1,2,3] ++ []\n",
    "\n",
    "-- these are monoids\n",
    "import Data.Monoid\n",
    "\n",
    "-- and their definition is as follows:\n",
    "\n",
    "-- class Monoid m where  \n",
    "--     mempty :: m  \n",
    "--     mappend :: m -> m -> m  \n",
    "--     mconcat :: [m] -> m  \n",
    "--     mconcat = foldr mappend mempty\n",
    "\n",
    "-- mempty is the identity value of the monoid\n",
    "-- mappend takes two monoids and applys the binary function\n",
    "-- mconcat reduces a list of monoids by applying mappend\n",
    "\n",
    "-- lists are monoid's as we showed before\n",
    "\n",
    "-- instance Monoid [a] where  \n",
    "--     mempty = []  \n",
    "--     mappend = (++)  \n",
    "\n",
    "mconcat [[1,2],[3..6],[7]]\n",
    "\n",
    "-- another usefull monoid is maybe\n",
    "Just \"bob\" `mappend` Nothing\n",
    "Just \"bob\" `mappend` Just \"bill\""
   ]
  },
  {
   "cell_type": "code",
   "execution_count": null,
   "metadata": {
    "collapsed": true
   },
   "outputs": [],
   "source": [
    "-- Foldable are for things that can be folded up\n",
    "import qualified Data.Foldable as F\n",
    "\n",
    "-- whereas foldr takes a list, F.foldr takes any instance of foldable\n",
    ":t foldr\n",
    ":t F.foldr\n",
    "\n",
    "-- so now we can fold over things like maybe\n",
    "F.foldr (+) 1 $ Just 9\n",
    "\n",
    "-- a more usefull example would be folding a tree\n",
    "data Tree a = Empty | Node a (Tree a) (Tree a) deriving (Show, Read, Eq)\n",
    "\n",
    "-- we could implement foldl and foldr\n",
    "-- but its easier to implemtn foldmap\n",
    "-- foldmap takes a value of the inner type we are folding and returns a monoid value\n",
    "-- the second parameter is a foldable datastructure that contains the monoid values\n",
    "-- then by mappending the values we can fold any structure\n",
    "\n",
    "-- heres how it would look for a tree\n",
    "instance F.Foldable Tree where\n",
    "    foldMap f Empty = mempty\n",
    "    foldMap f (Node x l r) = F.foldMap f l `mappend`\n",
    "                             f x           `mappend`\n",
    "                             F.foldMap f r\n",
    "                             \n",
    "-- foldMap receives a function that turns a Node into a monoid value\n",
    "-- all that is needed is to fold the left and right trees\n",
    "-- and combine them into a single monoid value for that node\n",
    "\n",
    "let testTree = Node 5  \n",
    "                (Node 3  \n",
    "                    (Node 1 Empty Empty)  \n",
    "                    (Node 6 Empty Empty)  \n",
    "                )  \n",
    "                (Node 9  \n",
    "                    (Node 8 Empty Empty)  \n",
    "                    (Node 10 Empty Empty)  \n",
    "                )\n",
    "\n",
    "F.foldl (+) 0 testTree\n",
    "F.foldr (*) 1 testTree\n",
    "\n",
    "-- one intresting use of foldMap is to turn trees to lists\n",
    "F.foldMap (\\x -> [x]) testTree"
   ]
  }
 ],
 "metadata": {
  "kernelspec": {
   "display_name": "Haskell",
   "language": "haskell",
   "name": "haskell"
  },
  "language_info": {
   "codemirror_mode": "ihaskell",
   "file_extension": ".hs",
   "name": "haskell",
   "version": "8.0.2"
  }
 },
 "nbformat": 4,
 "nbformat_minor": 2
}
