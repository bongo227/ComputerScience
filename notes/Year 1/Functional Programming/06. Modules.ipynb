{
 "cells": [
  {
   "cell_type": "code",
   "execution_count": null,
   "metadata": {},
   "outputs": [],
   "source": [
    "-- modules can be imported with import\n",
    "import Data.List\n",
    "\n",
    "-- in the interpreter you can add functions to the global scope with\n",
    ":m + Data.List\n",
    "\n",
    "-- You can choose which functions to import\n",
    "import Data.List (nub, sort)\n",
    "\n",
    "-- Or import everything except a list of functions\n",
    "import Data.List hiding (nub)\n",
    "\n",
    "-- Quallified imports allows you to import functions of the same name\n",
    "import qualified Data.List\n",
    "Data.List.sort [1, 3, 2]\n",
    "\n",
    "-- You can change the name of a quallified import\n",
    "import qualified Data.List as List\n",
    "List.sort [1, 5, 2]"
   ]
  },
  {
   "cell_type": "code",
   "execution_count": null,
   "metadata": {},
   "outputs": [],
   "source": [
    "-- to create a module use the module Name () where syntax\n",
    "module Geometry\n",
    "( sphereVolume\n",
    ", sphereArea\n",
    ") where\n",
    "\n",
    "sphereVolume :: Float -> Float  \n",
    "sphereVolume radius = (4.0 / 3.0) * pi * (radius ^ 3)  \n",
    "  \n",
    "sphereArea :: Float -> Float  \n",
    "sphereArea radius = 4 * pi * (radius ^ 2)  "
   ]
  },
  {
   "cell_type": "code",
   "execution_count": null,
   "metadata": {},
   "outputs": [],
   "source": [
    "-- now you can use it like any other module\n",
    "import Geometry\n",
    "sphereVolume 10.0"
   ]
  }
 ],
 "metadata": {
  "language_info": {
   "name": "python",
   "pygments_lexer": "ipython3"
  }
 },
 "nbformat": 4,
 "nbformat_minor": 2
}
