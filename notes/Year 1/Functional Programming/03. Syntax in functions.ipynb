{
 "cells": [
  {
   "cell_type": "code",
   "execution_count": null,
   "metadata": {},
   "outputs": [],
   "source": [
    "-- Pattern matching allows us to match pieces of data in order to perform diffrent operations\n",
    "-- An example would be a factorial function, if we call factorial 0 we need 1 otherwise we can compute factorial\n",
    "-- normally\n",
    "\n",
    "factorial :: (Integral a) => a -> a  \n",
    "factorial 0 = 1  \n",
    "factorial n = n * factorial (n - 1)\n",
    "\n",
    "factorial 0\n",
    "factorial 50\n",
    "\n",
    "-- each pattern is checked in order\n",
    "-- if the first argument is 0 we call return the first expression\n",
    "-- otherwise the latter\n",
    "\n",
    "-- Some more examples:\n",
    "\n",
    "-- length function\n",
    "length' :: (Num b) => [a] -> b  \n",
    "length' [] = 0  \n",
    "length' (_:xs) = 1 + length' xs \n",
    "\n",
    "length' [1, 2, 3]\n",
    "\n",
    "-- Sum function\n",
    "sum' :: (Num a) => [a] -> a  \n",
    "sum' [] = 0  \n",
    "sum' (x:xs) = x + sum' xs\n",
    "\n",
    "sum' [1, 2, 3]"
   ]
  },
  {
   "cell_type": "code",
   "execution_count": null,
   "metadata": {},
   "outputs": [],
   "source": [
    "-- Guards are alot like if statements\n",
    "numSize :: (Integral a) => a -> String\n",
    "numSize x\n",
    "    | -9 <= x && x <= 9 = \"Number is a single digit\"\n",
    "    | -9999 <= x && x <= 9999 = \"Number is less than four digits\"\n",
    "    | otherwise = \"Number is huge\"\n",
    "numSize 3\n",
    "numSize 333\n",
    "numSize 333333"
   ]
  },
  {
   "cell_type": "code",
   "execution_count": null,
   "metadata": {},
   "outputs": [],
   "source": [
    "-- The were clause can be used to precompute things\n",
    "initials :: String -> String -> String\n",
    "initials fn sn = [f] ++ [s]\n",
    "    where (f:_) = fn\n",
    "          (s:_) = sn\n",
    "                  \n",
    "initials \"Ben\" \"Sheffield\"\n",
    "\n",
    "-- A simpler solution would be to use pattern matching in the function arguments\n",
    "initials' (f:_) (s:_) = f:[s]\n",
    "initials' \"Elon\" \"Musk\""
   ]
  },
  {
   "cell_type": "code",
   "execution_count": null,
   "metadata": {},
   "outputs": [],
   "source": [
    "-- let .. in .. is like the were clause but the bindings come first\n",
    "cylinder :: (RealFloat a) => a -> a -> a  \n",
    "cylinder r h = \n",
    "    let sideArea = 2 * pi * r * h  \n",
    "        topArea = pi * r ^2  \n",
    "    in  sideArea + 2 * topArea\n",
    "    \n",
    "cylinder 5 10\n",
    "\n",
    "-- unlike where let .. in .. is an expression\n",
    "(let a = 10 in a + 5) + 2\n",
    "\n",
    "-- They can be used for localy scoped functions\n",
    "[let sqr x = x * x in (sqr 1, sqr 2, sqr 3)]\n",
    "\n",
    "-- Bindings are seperated by semicolors\n",
    "[let a = 1; b = 2; c = 3 in (a, b, c)]\n",
    "\n",
    "-- Can be used in list comprehensions\n",
    "take 10[x2 | x <- [2..], let x2 = x^2, x2 > 100]"
   ]
  },
  {
   "cell_type": "code",
   "execution_count": null,
   "metadata": {},
   "outputs": [],
   "source": [
    "-- case statements are also expressions\n",
    "foo list = case list of [] -> \"empty\"\n",
    "                        [x] -> \"single\"\n",
    "                        xs -> \"more\"\n",
    "                    \n",
    "foo []\n",
    "foo [1]\n",
    "foo [1, 2, 3]"
   ]
  }
 ],
 "metadata": {
  "language_info": {
   "name": "python",
   "pygments_lexer": "ipython3"
  }
 },
 "nbformat": 4,
 "nbformat_minor": 2
}
