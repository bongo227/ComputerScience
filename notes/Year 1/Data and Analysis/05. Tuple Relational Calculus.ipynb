{
 "cells": [
  {
   "cell_type": "markdown",
   "metadata": {},
   "source": [
    "# Tuple Relational Calculus"
   ]
  },
  {
   "cell_type": "markdown",
   "metadata": {},
   "source": [
    "### Example\n",
    "$$\n",
    "\\{ S \\;|\\; (S \\in \\text{Student}) \\land (\\text{S.age} > 19) \\}\n",
    "$$\n",
    "The set of tuples $S$ such that $S$ is in table `Student` and has `age` greater than 19. The following is another way of expressing the same statement in a simpler form.\n",
    "$$\n",
    "\\{ S \\in \\text{Student} \\;|\\; \\text{S.age} > 19) \\}\n",
    "$$"
   ]
  },
  {
   "cell_type": "markdown",
   "metadata": {},
   "source": [
    "### Syntax\n",
    "A TRC expression follows the form $\\{ T \\;|\\; P(T) \\}$ where $P(T)$ is a logical formula. Inside a logical formula we can use. \n",
    "\n",
    "#### Existential quantifier\n",
    "$$\\exists S.P(S)$$\n",
    "This specifies that their must exsist a tuple $S$ such that $P(S)$ us true. We can also write $\\exists S \\in T.P(S)$ to specify $S$ is in table $T$.\n",
    "\n",
    "#### Universal quantifier\n",
    "$$\\forall S.Q(S)$$\n",
    "Their expression states that for all tuples $S$, $Q(S)$ must hold true."
   ]
  },
  {
   "cell_type": "markdown",
   "metadata": {},
   "source": [
    "### Why?\n",
    "By seperating query description and operation description query optermizers can help find the most performant implementation of a query."
   ]
  }
 ],
 "metadata": {
  "kernelspec": {
   "display_name": "Python 3",
   "language": "python",
   "name": "python3"
  },
  "language_info": {
   "codemirror_mode": {
    "name": "ipython",
    "version": 3
   },
   "file_extension": ".py",
   "mimetype": "text/x-python",
   "name": "python",
   "nbconvert_exporter": "python",
   "pygments_lexer": "ipython3",
   "version": "3.5.3"
  }
 },
 "nbformat": 4,
 "nbformat_minor": 2
}
