{
 "cells": [
  {
   "cell_type": "markdown",
   "metadata": {},
   "source": [
    "### Hypothesis Testing\n",
    "\n",
    "When analysing data we often have a hypothesis which we need to test. Staisitical tests provides mathmatical tools to carry out a test.\n",
    "\n",
    "To perform a statistical test:\n",
    "\n",
    "- The _null hypothesis_ and _alternate hypothsis_ are specified.\n",
    "- A statistic is computed from the data.\n",
    "- A test then investigates how likely the statistic would appear if the null hypothesis is true.\n",
    "- The probability is called the _p-value_, the cance we obtain the statisitic if the null hypothesis is true.\n",
    "\n",
    "Any observation that lead to rejection of the null hypothesis is described as _statistically significant_."
   ]
  },
  {
   "cell_type": "markdown",
   "metadata": {},
   "source": [
    "### The $\\chi^2$ Test\n",
    "\n",
    "The $\\chi^2$ test allows us to assess correlation in qualitative data. We do this by forming a contingency table, then comparing it with the expected values if the null hypothesis is true. \n",
    "\n",
    "The $\\chi^2$ test is unreliable for a 2x2 table if any cell has an expected value bellow 5, or for a larger table, if more than 20% of cells have an expected value bellow 5.\n",
    "\n",
    "#### Example\n",
    "\n",
    "Is their a correlation between students submitting the coursework assignment, and acheving a grade A at the end of the course.\n",
    "\n",
    "##### 1. Specifiy the hypothesis\n",
    "\n",
    "$H_0:$ Theis is no correlation beween submitting the coursework assignment and acheving a grade A.\n",
    "\n",
    "$H_1:$ Theis is a correlation beween submitting the coursework assignment and acheving a grade A.\n",
    "\n",
    "##### 2. Form a contigency table\n",
    "\n",
    "| $O_{ij}$ | coursework | ¬coursework |\n",
    "| --- | --- | --- |\n",
    "| __A__ | 102 | 29 | 131 |\n",
    "| __¬A__ | 42 | 34 | 76 |\n",
    "| | 144 | 63 | 207 |\n",
    "\n",
    "##### 3. Form the expected table\n",
    "\n",
    "| $E_{ij}$ | coursework | ¬coursework |\n",
    "| --- | --- | --- |\n",
    "| __A__ | $\\dfrac{131 \\times 144}{207}$ | $\\dfrac{131 \\times 63}{207}$ |\n",
    "| __¬A__ | $\\dfrac{76 \\times 144}{207}$ | $\\dfrac{76 \\times 63}{207}$ |\n",
    "\n",
    "##### 4. Calculate $\\chi^2$\n",
    "\n",
    "$$\n",
    "\\chi^2 = \\sum_{i, j}{\\dfrac{(O_{ij} - E_{ij})^2}{E_{ij}}} = 11.60\n",
    "$$\n",
    "\n",
    "##### 5. Find the p-value\n",
    "\n",
    "The degrees of freedom for the test is given by:\n",
    "$$\n",
    "(n - 1) \\times (m - 1)\n",
    "$$\n",
    "where $n$ is the number of rows and $m$ is the number of columns.\n",
    "\n",
    "From the table of critical values where the degree of freedom is 1:\n",
    "\n",
    "| $p$ | $0.10$ | $0.05$ | $0.01$ | $0.001$ |\n",
    "| --- | --- | --- | --- | --- |\n",
    "| $\\chi^2_1$ | $2.71$ | $3.84$ | $6.64$ | $10.83$ |\n",
    "\n",
    "We can see $p < 0.001$ (their is less than a 0.1% chance of the value larger than 10.83 arising from chance), so we reject the $H_0$ at the 99.9% level. "
   ]
  }
 ],
 "metadata": {
  "kernelspec": {
   "display_name": "Python 3",
   "language": "python",
   "name": "python3"
  },
  "language_info": {
   "codemirror_mode": {
    "name": "ipython",
    "version": 3
   },
   "file_extension": ".py",
   "mimetype": "text/x-python",
   "name": "python",
   "nbconvert_exporter": "python",
   "pygments_lexer": "ipython3",
   "version": "3.5.2"
  }
 },
 "nbformat": 4,
 "nbformat_minor": 2
}
