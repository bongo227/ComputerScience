{
 "cells": [
  {
   "cell_type": "markdown",
   "metadata": {},
   "source": [
    "# SQL\n",
    "\n",
    "Standard language for interacting with a relational database. Most of SQL is _declarative_, the code states what should be done, not how to do it. The other parts of SQL are imperative, this is the part of the language for creating tables, fields etc."
   ]
  },
  {
   "cell_type": "markdown",
   "metadata": {},
   "source": [
    "### Data Manipulation Language (DML)\n",
    "SQL DML allows modification to exsisting tables and performing querys on them."
   ]
  },
  {
   "cell_type": "markdown",
   "metadata": {},
   "source": [
    "### INSERT\n",
    "```sql\n",
    "INSERT\n",
    "    INTO Student(uun, name, age, email)\n",
    "    VALUES('s1428751', 'Bob', 19, 'bob@sms.ed.ac.uk')\n",
    "```\n",
    "\n",
    "The above inserts a new row into table `Student` with `uun` set to `'s1428751'`, `name` set to `'Bob'` etc. We can omit the `INTO` line as long as we declare the values in the order the table was created."
   ]
  },
  {
   "cell_type": "markdown",
   "metadata": {},
   "source": [
    "### UPDATE\n",
    "```sql\n",
    "UPDATE Student\n",
    "    SET name = 'Bobby'\n",
    "    WHERE uun = 's1428751'\n",
    "```\n",
    "\n",
    "Here we update all records with a `uun` of `'s1428751'` (since uun is unique, only one record will be updates), such that their `name` field is set `'Bobby'"
   ]
  },
  {
   "cell_type": "markdown",
   "metadata": {},
   "source": [
    "### DELETE\n",
    "```sql\n",
    "DELETE\n",
    "    FROM Student\n",
    "    WHERE uun = 's1428751'\n",
    "```\n",
    "\n",
    "Simular to `UPDATE`, instead of changing fields the record is removed from the table."
   ]
  },
  {
   "cell_type": "markdown",
   "metadata": {},
   "source": [
    "### SELECT\n",
    "Selection allows us to query data across 1 or many tables.\n",
    "\n",
    "```sql\n",
    "SELECT *\n",
    "    FROM Student\n",
    "    WHERE age > 19\n",
    "```\n",
    "\n",
    "Here we return the all the records in the student table whos age is greater that 19. We can specify what fields we want returned by listing them: \n",
    "\n",
    "```sql\n",
    "SELECT name, age\n",
    "    ...\n",
    "```\n",
    "\n",
    "To query across multiple tables we need to be more explicit:\n",
    "```sql\n",
    "SELECT Student.name, Student.age, Adresses.email\n",
    "    FROM Student, Adresses\n",
    "    WHERE Student.uun = Adresses.uun AND Student.uun = 's1428751'\n",
    "```\n",
    "\n",
    "Since `Student` and `Adresses` both have a `uun` field, we must prefix `uun` with the table name. If their is alot of table names and they are long we might want to alias them:\n",
    "\n",
    "```sql \n",
    "SELECT S.name, S.age\n",
    "    FROM Student AS S\n",
    "    ...\n",
    "```\n",
    "\n",
    "Nested/inner querys allow more succinct querys (but they do not increase the expressive power of SQL. They work by using the result of the query in the outer query, for example:\n",
    "\n",
    "```sql\n",
    "SELECT Student.name, Student.email\n",
    "FROM Student, Takes, (SELECT code FROM Course WHERE title='Mathematics 1') AS C\n",
    "WHERE Student.uun = Takes.uun AND Takes.code = C.code\n",
    "```\n",
    "\n",
    "The table `C` is the resultant table of the nested query, which is used in the outer query."
   ]
  },
  {
   "cell_type": "markdown",
   "metadata": {},
   "source": [
    "### UNION\n",
    "\n",
    "```sql\n",
    "SELECT ...\n",
    "\n",
    "UNION\n",
    "\n",
    "SELECT ...\n",
    "```\n",
    "\n",
    "The `UNION` keyword takes the union of two select statements. This will return all the rows in the top and bottom selection statements."
   ]
  },
  {
   "cell_type": "markdown",
   "metadata": {},
   "source": [
    "### INTERSECT\n",
    "```sql\n",
    "SELECT ...\n",
    "\n",
    "INTERSECT\n",
    "\n",
    "SELECT ...\n",
    "```\n",
    "The `INTERSECT` keyword returns a new table with rows that exisist in both the top and bottom selection statements."
   ]
  },
  {
   "cell_type": "markdown",
   "metadata": {},
   "source": [
    "### EXCEPT\n",
    "```sql\n",
    "SELECT ...\n",
    "\n",
    "EXCEPT\n",
    "\n",
    "SELECT ...\n",
    "```\n",
    "The `EXCEPT` keyword returns a new table with rows that exsist in the top selection or the bottom selection (but not both)"
   ]
  },
  {
   "cell_type": "markdown",
   "metadata": {},
   "source": [
    "### Addregate Operations\n",
    "Some higher level operations that work on collections of values include:\n",
    "\n",
    "| Name | Description |\n",
    "| :--- | :--- |\n",
    "| `COUNT(val)` | The number of values in the `val` field |\n",
    "| `SUM(val)` | The total of all values in the `val` field |\n",
    "| `AVG(val)` | THe mean of all values in the `val` field |\n",
    "| `MAX(val)` | The greatest value in the `val` field |\n",
    "| `MIN(val)` | The least value in the `val` field |\n",
    "\n",
    "`val` can be prefixed with the `DISTINCT` keywork, to perform these aggregate operations on all the unique values of the field.\n",
    "\n",
    "\n",
    "The following query returns the number of students in the `Student` table.\n",
    "```sql\n",
    "SELECT COUNT(DISTINCT uun) AS \"Number\"\n",
    "FROM Student\n",
    "```"
   ]
  },
  {
   "cell_type": "markdown",
   "metadata": {},
   "source": [
    "### Multisets\n",
    "The relational model with tuple relational algebra worked with sets, SQL however works with multisets. The order is still not important just like sets, however items in a multiset may appear multiple times. SQL can still work with sets, if we want to return a set from a `SELECT` query we can instead use `SELECT DISTINCT` which will remove duplicate records."
   ]
  },
  {
   "cell_type": "markdown",
   "metadata": {},
   "source": [
    "### Syntax\n",
    "The three alphanumberic tokens are: keywords, identifiers and strings. Their rules are as follows:\n",
    "\n",
    "| | Case Sensitive | Spaces Allowed | Quotation Character | Quotation Required |\n",
    "| :--- | :--- | :--- | :--- | :--- |\n",
    "| __Keywords__ | No | Never | None | No |\n",
    "| __Identifiers__ | Implementation defined | If quoted | `\"` | If spaces |\n",
    "| __Strings__ | Implementation defined | Yes | `'` | Always |"
   ]
  },
  {
   "cell_type": "markdown",
   "metadata": {},
   "source": [
    "### Query Evaluation\n",
    "To perform a `SELECT` statement, databases use relation algebra. One obvious stategy would be:\n",
    "- Compute the cross product ($\\bowtie$) of all the `FROM` tables.\n",
    "- Select ($\\sigma$) all rows matching the `WHERE` condition.\n",
    "- Project ($\\pi$) fields listed in `SELECT`.\n",
    "\n",
    "This however will most likely be slower than other methods. Databases will calculate the cost of many diffrent _query plans_ by lookig at the indexes, table sizes, selectivity and any potential parallelism. Once the fastest query plan is selected, it is executed."
   ]
  },
  {
   "cell_type": "markdown",
   "metadata": {},
   "source": [
    "### ACID\n",
    "A transaction in a single operation on a database. The ACID constraints ensure that a tranasaction happens reliably by ensuring 4 properities.\n",
    "\n",
    "| | |\n",
    "| :--- | :--- |\n",
    "| __Atomicity__ | All-or-nothing, a transition must run to completion or fail and leave the database unchanged |\n",
    "| __Consistency__ | Applying a transaction in a valid state of the database will always give a vlaid result state |\n",
    "| __Isolation__ | Concurrent actions have the same effect as if they were sequential |\n",
    "| __Durability__ | Once a transaction is commited, it will not be rolled back |"
   ]
  }
 ],
 "metadata": {
  "kernelspec": {
   "display_name": "Python 3",
   "language": "python",
   "name": "python3"
  },
  "language_info": {
   "codemirror_mode": {
    "name": "ipython",
    "version": 3
   },
   "file_extension": ".py",
   "mimetype": "text/x-python",
   "name": "python",
   "nbconvert_exporter": "python",
   "pygments_lexer": "ipython3",
   "version": "3.5.3"
  }
 },
 "nbformat": 4,
 "nbformat_minor": 2
}
