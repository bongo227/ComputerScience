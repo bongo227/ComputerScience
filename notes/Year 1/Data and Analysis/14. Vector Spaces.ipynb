{
 "cells": [
  {
   "cell_type": "markdown",
   "metadata": {},
   "source": [
    "# Vector Spaces\n",
    "The simplest querys we can ask an IR system would be:\n",
    "- Find documents containing one or more of `{word1, word2, ..., wordn}`\n",
    "\n",
    "More sophisticated systems would support queries such as:\n",
    "- Find documents containing all of `{word1, word2, ..., wordn}`\n",
    "- Find documents containing as many of `{word1, word2, ..., wordn}`\n",
    "- Bolean operations\n",
    "- Phrase searching\n",
    "- Simular words\n",
    "- Regex\n",
    "\n",
    "A search may return a large amount of documents which means its important to rank them in order of relevence. In order to rank documents, the results requires a model, one model is the _bag-of-words_ and its refinement _vector spaces_."
   ]
  },
  {
   "cell_type": "markdown",
   "metadata": {},
   "source": [
    "### Bag-of-Words Model\n",
    "The bag-of-words model treats a document as a multiset of words, this makes it extreamly simple to work with.\n",
    "\n",
    "For a document $D_i$ of documents $D$, how important is word $w$?\n",
    "\n",
    "- $f_i(w)$ is the _absolute term frequency_, the number of $w$'s in $D_i$.\n",
    "- $\\dfrac{f_i(w)}{size(D_i)}$ is the _relative term frequency_, the appearances of $w$ scaled by the size of $D_i$.\n",
    "- $log\\left(\\dfrac{N}{N_w}\\right)$ is the _inverse document frequency_, word $w$ appears in $N_w$ documents out of $N$\n",
    "- $f_i(w) \\times log\\left(\\dfrac{N}{N_w}\\right)$ is the _term frequency - inverse document frequency (tf-idf)_, the absolute weight of $w$ in $D_i$ weighted by the inverse document frequency.\n",
    "\n",
    "> Suppose we have 400 documents, one of which has 3000 words in which 28 are \"Scotland\" and 12 are \"forestry\". \"Scotland\" appears in 250 of the documents and \"forestry\" appears in 78.\n",
    "\n",
    "$$\n",
    "\\begin{align}\n",
    "\\text{tf-idf}(\\text{\"Scotland\"}, D) &= 28 \\times log\\left(\\frac{400}{250}\\right) \\\\\n",
    "&= 28 \\times 0.204 = 5.74 \\\\\n",
    "\\text{tf-idf}(\\text{\"forestry\"}, D) &= 12 \\times log\\left(\\frac{400}{78}\\right) \\\\\n",
    "&= 28 \\times 0.204 = 5.74\n",
    "\\end{align}\n",
    "$$\n",
    "\n",
    "Although \"Scotland\" was more frequent, \"forestry\" is more significant in this document. Words that appear in few documents will have a high td-idf, words in many documents will have a lower td-idf and words that appear in all documnets will have a td-idf of zero."
   ]
  }
 ],
 "metadata": {
  "kernelspec": {
   "display_name": "Python 3",
   "language": "python",
   "name": "python3"
  },
  "language_info": {
   "codemirror_mode": {
    "name": "ipython",
    "version": 3
   },
   "file_extension": ".py",
   "mimetype": "text/x-python",
   "name": "python",
   "nbconvert_exporter": "python",
   "pygments_lexer": "ipython3",
   "version": "3.5.3"
  }
 },
 "nbformat": 4,
 "nbformat_minor": 2
}
