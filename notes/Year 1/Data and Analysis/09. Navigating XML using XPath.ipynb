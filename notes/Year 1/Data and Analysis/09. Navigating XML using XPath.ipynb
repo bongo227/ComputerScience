{
 "cells": [
  {
   "cell_type": "markdown",
   "metadata": {},
   "source": [
    "# Navigating XML using XPath\n",
    "\n",
    "XQuery is a query langauge for extracting, transforming and producing XML documents. XPath is a subset of XQuery for naviagting an XML document. Examples of how XPath can be used are:\n",
    "- Performing database-style queires.\n",
    "- Extracting annotated content from marked-up text documents.\n",
    "- Ifentifying information captured in structure of the tree."
   ]
  },
  {
   "cell_type": "markdown",
   "metadata": {},
   "source": [
    "### XPath Path Expressions\n",
    "An XPath path expression describes a set of possible paths from the root of the tree, the set of nodes identified is all theose reaced as final destinations of these paths. The returned nodes is a list sorted in document order (pre-order).\n",
    "\n",
    "- `/a/b/c` returns element `c`.\n",
    "- `/a/b/c/*` returns all children of c.\n",
    "- `//c` returns the decendents of the root node which are `c` elements.\n",
    "- `/a/node()` returns elements or text nodes that are a child of `a`.\n",
    "- `/a/text()` returns text nodes that are child of `a`.\n",
    "- `/a/@type` returns nodes with a `type` attribute.\n",
    "- `//*[@type=\"d\"]` returns all desendents of the root node whos `type` attribute is `'d'`.\n",
    "- `/a/b/..` returns the parent of `b` (which is `a`)"
   ]
  }
 ],
 "metadata": {
  "kernelspec": {
   "display_name": "Python 3",
   "language": "python",
   "name": "python3"
  },
  "language_info": {
   "codemirror_mode": {
    "name": "ipython",
    "version": 3
   },
   "file_extension": ".py",
   "mimetype": "text/x-python",
   "name": "python",
   "nbconvert_exporter": "python",
   "pygments_lexer": "ipython3",
   "version": "3.5.3"
  }
 },
 "nbformat": 4,
 "nbformat_minor": 2
}
