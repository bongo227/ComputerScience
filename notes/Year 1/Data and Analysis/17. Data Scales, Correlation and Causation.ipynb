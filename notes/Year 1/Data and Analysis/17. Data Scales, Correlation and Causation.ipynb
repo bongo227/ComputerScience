{
 "cells": [
  {
   "cell_type": "markdown",
   "metadata": {},
   "source": [
    "### Data Scales\n",
    "\n",
    "Qualative data can be split into two scales:\n",
    "\n",
    "- __Categorical Scales:__ Each item is drawn from a fixed number of categorys. Also known as _nominal scales_.\n",
    "- __Ordinal Scales:__ Data items with a recognized ordering between items but no arithmetic values, for example grades.\n",
    "\n",
    "Quantative data can also be split into two scales:\n",
    "\n",
    "- __Interval Scales:__ A numerical scale in which we are intrested in the relative value rather than the absolute value, for example tempreture scales since the choice of zero is arbitray."
   ]
  }
 ],
 "metadata": {
  "kernelspec": {
   "display_name": "Python 3",
   "language": "python",
   "name": "python3"
  },
  "language_info": {
   "codemirror_mode": {
    "name": "ipython",
    "version": 3
   },
   "file_extension": ".py",
   "mimetype": "text/x-python",
   "name": "python",
   "nbconvert_exporter": "python",
   "pygments_lexer": "ipython3",
   "version": "3.5.2"
  }
 },
 "nbformat": 4,
 "nbformat_minor": 2
}
