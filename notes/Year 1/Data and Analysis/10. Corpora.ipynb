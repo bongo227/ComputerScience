{
 "cells": [
  {
   "cell_type": "markdown",
   "metadata": {},
   "source": [
    "# Corpora\n",
    "Natural language has lots of internal structure such as phases, sentences and grammatical rules. This is an example of semistructured data. Computatinal linguistics and theoretical linguistics use a corpus, which is a body of text for studing langugae and language varienty. The application domain requires the following features of a corpus:\n",
    "\n",
    "#### Representitive sampling\n",
    "Any one corpus can only contain a sample of language use, even if it is a large sample it will be dwarefed by actual language use. For meaningful analysis, the sample must be representitive of what is being studied, a Shakespeare play whould be appropriate for analysing Shakespeares use of English but is not representitive of Elizabethan English (Shakespeare had a particular style).\n",
    "\n",
    "#### Finite\n",
    "When constructing a copus, the size is decided before the language is sampled, thus fixing its size. Monitor corpora capture continuing growth and change in language by sampling text over time, however they still grow by a fixed amount each time. This differs from theoretical linguistics which makes use of context-free grammers to produce infinite collections of sentences.\n",
    "\n",
    "#### Machine readable\n",
    "Compared to printed text, machine readable corpora have several features:\n",
    "- Can be hugh in size.\n",
    "- Efficent search and analysis.\n",
    "- Made avaliable to a many users sumultaneosly.\n",
    "- Easily/automaticly annotated with information.\n",
    "\n",
    "#### Standard reference\n",
    "Having a corpus as a standard reference allows many theories of language to be compared with eachother if they use the same corpus. For this, corpora need to be widely distributed and used by many other researchers."
   ]
  },
  {
   "cell_type": "markdown",
   "metadata": {},
   "source": [
    "### Building a Corpus\n",
    "To build a corpus you need to collect data, then annotated it for use in research.\n",
    "\n",
    "#### Collecting data\n",
    "To ensure the corpus represents the variety of a langauge, a _balanced_ corpus should include a variety of the following:\n",
    "- Language type\n",
    "    - edited text (artices, books, news)\n",
    "    - spontanteous text (email, comments, letters)\n",
    "    - spontanteous speech (conversations, dialogues)\n",
    "    - scripted speech (formal speeches)\n",
    "- Genre: materail type such novels, scientific articles, movie reviews etc\n",
    "- Domain: what the material is about (crime, travel, law, etc)\n",
    "- Media: Physicla realization (text, audio, transcribed speech, video, etc)\n",
    "\n",
    "The ensure the material is representative the selected text should be randomly sampled.\n",
    "\n",
    "#### Annotation\n",
    "To effectivly study a corpus, annotation is required. \n",
    "- Pre-processing breaks down a text into basic units\n",
    "    - tokenization\n",
    "    - sentence boundrys\n",
    "- Annotation which adds infomation to the text \n",
    "    - parts of speech\n",
    "    - syntatic structure \n",
    "    - dialogue\n",
    "    - prosody (rhythem, intonation, stress in speech)"
   ]
  },
  {
   "cell_type": "markdown",
   "metadata": {},
   "source": [
    "### Corpus Annotation\n",
    "\n",
    "- __Annotation:__ adds derivivied infomation to a corpus\n",
    "- __Annotation scheme:__ A tag set of annotation guidelines\n",
    "- __Tag set:__ List of labels for markup\n",
    "- __Annotation guidelines:__ Instructs annotators how a tag set should be applied, to ensure consistency."
   ]
  }
 ],
 "metadata": {
  "kernelspec": {
   "display_name": "Python 3",
   "language": "python",
   "name": "python3"
  },
  "language_info": {
   "codemirror_mode": {
    "name": "ipython",
    "version": 3
   },
   "file_extension": ".py",
   "mimetype": "text/x-python",
   "name": "python",
   "nbconvert_exporter": "python",
   "pygments_lexer": "ipython3",
   "version": "3.5.3"
  }
 },
 "nbformat": 4,
 "nbformat_minor": 2
}
