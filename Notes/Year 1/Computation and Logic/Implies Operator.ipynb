{
 "cells": [
  {
   "cell_type": "markdown",
   "metadata": {},
   "source": [
    "# Logical Implies Operator\n",
    "This is the true table for the implies operator:\n",
    "\n",
    "| $p$    | $q$    | <div style=\"width: 40px;\">$p \\rightarrow q$</div> |\n",
    "| :----- | :----- | :---------------- |\n",
    "| $\\top$ | $\\top$ | $\\top$            |\n",
    "| $\\top$ | $\\bot$ | $\\bot$            |\n",
    "| $\\bot$ | $\\top$ | $\\top$            |\n",
    "| $\\bot$ | $\\bot$ | $\\top$            |\n",
    "\n",
    "To see why this is true consider the following statement\n",
    "> If your pet is a dog, then your pet is a mammal\n",
    "\n",
    "- If your pet _is_ a dog, then it must be a mammal so $\\text{dog} \\rightarrow \\text{mammal}$ is true\n",
    "- Your pet cannot be a dog, but not a mammal, because all dogs are mammals so $\\text{dog} \\rightarrow \\text{not mammal}$ is false\n",
    "- If your pet is not a dog, we don't know if it is a mammal, so we must assume true"
   ]
  }
 ],
 "metadata": {
  "language_info": {
   "name": "python",
   "pygments_lexer": "ipython3"
  }
 },
 "nbformat": 4,
 "nbformat_minor": 2
}
